{
 "cells": [
  {
   "cell_type": "code",
   "execution_count": null,
   "metadata": {},
   "outputs": [],
   "source": [
    "import torch\n",
    "import torch.nn as nn\n",
    "from task2_cifar import train_valid_data, init_weight, run\n",
    "\n",
    "device = torch.accelerator.current_accelerator().type if torch.accelerator.is_available() else \"cpu\"\n",
    "dataset = train_valid_data()"
   ]
  },
  {
   "cell_type": "markdown",
   "metadata": {},
   "source": [
    "| n*[Conv+Poll]+MLP | 参数量  | 迭代用时 | 最佳迭代次数 | 最佳准确率 |\n",
    "| :---------------: | :-----: | :------: | :----------: | :--------: |\n",
    "|       一层        | 8402890 | 1.16it/s |     136      |   71.21%   |\n",
    "|       两层        | 4227210 | 1.15it/s |     129      |   77.28%   |\n",
    "|       三层        | 2204170 | 1.02it/s |     103      |   81.07%   |\n",
    "|       四层        | 1451274 | 1.07s/it |      45      |   79.72%   |"
   ]
  },
  {
   "cell_type": "code",
   "execution_count": 2,
   "metadata": {},
   "outputs": [
    {
     "name": "stderr",
     "output_type": "stream",
     "text": [
      " 15%|█▍        | 119/800 [01:44<09:56,  1.14it/s, accuracy=71.67%, best_accuracy=71.91%, lr=1e-05, test_loss=1.45e-02, train_loss=4.81e-05]"
     ]
    },
    {
     "name": "stdout",
     "output_type": "stream",
     "text": [
      "模型连续40次无提升，提前终止训练\n",
      "最佳迭代次数: 80\n",
      "最佳准确率：71.91%\n",
      "损失函数=CrossEntropyLoss() 学习率=0.01 批大小=128\n",
      "模型参数=8402890\n"
     ]
    },
    {
     "name": "stderr",
     "output_type": "stream",
     "text": [
      "\n"
     ]
    }
   ],
   "source": [
    "# 一层[Conv+Poll]\n",
    "class Model(nn.Module):\n",
    "    def __init__(self):\n",
    "        super().__init__()\n",
    "        self.net = nn.Sequential(\n",
    "            #\n",
    "            # (3,32,32) -> (32,16,16)\n",
    "            nn.Conv2d(3, 32, 3, padding=1),\n",
    "            nn.BatchNorm2d(32),\n",
    "            nn.ReLU(),\n",
    "            nn.MaxPool2d(2),\n",
    "            #\n",
    "            nn.Flatten(),\n",
    "            nn.Linear(32 * 16 * 16, 1024),\n",
    "            nn.BatchNorm1d(1024),\n",
    "            nn.ReLU(),\n",
    "            nn.Dropout(0.5),\n",
    "            nn.Linear(1024, 10),\n",
    "        )\n",
    "\n",
    "    def forward(self, x):\n",
    "        return self.net(x)\n",
    "\n",
    "\n",
    "model = Model().apply(init_weight).to(device)\n",
    "run(model, nn.CrossEntropyLoss(), 1e-2, 128, dataset, device)"
   ]
  },
  {
   "cell_type": "code",
   "execution_count": 3,
   "metadata": {},
   "outputs": [
    {
     "name": "stderr",
     "output_type": "stream",
     "text": [
      " 13%|█▎        | 102/800 [01:31<10:24,  1.12it/s, accuracy=77.71%, best_accuracy=77.82%, lr=4e-05, test_loss=1.20e-02, train_loss=1.96e-05]"
     ]
    },
    {
     "name": "stdout",
     "output_type": "stream",
     "text": [
      "模型连续40次无提升，提前终止训练\n",
      "最佳迭代次数: 63\n",
      "最佳准确率：77.82%\n",
      "损失函数=CrossEntropyLoss() 学习率=0.01 批大小=128\n",
      "模型参数=4227210\n"
     ]
    },
    {
     "name": "stderr",
     "output_type": "stream",
     "text": [
      "\n"
     ]
    }
   ],
   "source": [
    "# 两层[Conv+Poll]\n",
    "class Model(nn.Module):\n",
    "    def __init__(self):\n",
    "        super().__init__()\n",
    "        self.net = nn.Sequential(\n",
    "            #\n",
    "            # (3,32,32) -> (32,16,16)\n",
    "            nn.Conv2d(3, 32, 3, padding=1),\n",
    "            nn.BatchNorm2d(32),\n",
    "            nn.ReLU(),\n",
    "            nn.MaxPool2d(2),\n",
    "            #\n",
    "            # (3,16,16) -> (64,8,8)\n",
    "            nn.Conv2d(32, 64, 3, padding=1),\n",
    "            nn.BatchNorm2d(64),\n",
    "            nn.ReLU(),\n",
    "            nn.MaxPool2d(2),\n",
    "            #\n",
    "            nn.Flatten(),\n",
    "            nn.Linear(64 * 8 * 8, 1024),\n",
    "            nn.BatchNorm1d(1024),\n",
    "            nn.ReLU(),\n",
    "            nn.Dropout(0.5),\n",
    "            nn.Linear(1024, 10)\n",
    "        )\n",
    "\n",
    "    def forward(self, x):\n",
    "        return self.net(x)\n",
    "\n",
    "\n",
    "model = Model().apply(init_weight).to(device)\n",
    "run(model, nn.CrossEntropyLoss(), 1e-2, 128, dataset, device)"
   ]
  },
  {
   "cell_type": "code",
   "execution_count": 4,
   "metadata": {},
   "outputs": [
    {
     "name": "stderr",
     "output_type": "stream",
     "text": [
      " 24%|██▍       | 192/800 [03:04<09:44,  1.04it/s, accuracy=80.96%, best_accuracy=81.11%, lr=2e-07, test_loss=1.13e-02, train_loss=1.37e-05]"
     ]
    },
    {
     "name": "stdout",
     "output_type": "stream",
     "text": [
      "模型连续40次无提升，提前终止训练\n",
      "最佳迭代次数: 153\n",
      "最佳准确率：81.11%\n",
      "损失函数=CrossEntropyLoss() 学习率=0.01 批大小=128\n",
      "模型参数=2204170\n"
     ]
    },
    {
     "name": "stderr",
     "output_type": "stream",
     "text": [
      "\n"
     ]
    }
   ],
   "source": [
    "# 三层[Conv+Poll]\n",
    "class Model(nn.Module):\n",
    "    def __init__(self):\n",
    "        super().__init__()\n",
    "        self.net = nn.Sequential(\n",
    "            #\n",
    "            # (3,32,32) -> (32,16,16)\n",
    "            nn.Conv2d(3, 32, 3, padding=1),\n",
    "            nn.BatchNorm2d(32),\n",
    "            nn.ReLU(),\n",
    "            nn.MaxPool2d(2),\n",
    "            #\n",
    "            # (32,16,16) -> (64,8,8)\n",
    "            nn.Conv2d(32, 64, 3, padding=1),\n",
    "            nn.BatchNorm2d(64),\n",
    "            nn.ReLU(),\n",
    "            nn.MaxPool2d(2),\n",
    "            #\n",
    "            # (64,8,8) -> (128,4,4)\n",
    "            nn.Conv2d(64, 128, 3, padding=1),\n",
    "            nn.BatchNorm2d(128),\n",
    "            nn.ReLU(),\n",
    "            nn.MaxPool2d(2),\n",
    "            #\n",
    "            nn.Flatten(),\n",
    "            nn.Linear(128 * 4 * 4, 1024),\n",
    "            nn.BatchNorm1d(1024),\n",
    "            nn.ReLU(),\n",
    "            nn.Dropout(0.5),\n",
    "            nn.Linear(1024, 10)\n",
    "        )\n",
    "\n",
    "    def forward(self, x):\n",
    "        return self.net(x)\n",
    "\n",
    "\n",
    "model = Model().apply(init_weight).to(device)\n",
    "run(model, nn.CrossEntropyLoss(), 1e-2, 128, dataset, device)"
   ]
  },
  {
   "cell_type": "code",
   "execution_count": 5,
   "metadata": {},
   "outputs": [
    {
     "name": "stderr",
     "output_type": "stream",
     "text": [
      " 24%|██▎       | 189/800 [03:27<11:10,  1.10s/it, accuracy=78.82%, best_accuracy=78.99%, lr=2e-08, test_loss=1.24e-02, train_loss=5.62e-07]"
     ]
    },
    {
     "name": "stdout",
     "output_type": "stream",
     "text": [
      "模型连续40次无提升，提前终止训练\n",
      "最佳迭代次数: 150\n",
      "最佳准确率：78.99%\n",
      "损失函数=CrossEntropyLoss() 学习率=0.001 批大小=128\n",
      "模型参数=1451274\n"
     ]
    },
    {
     "name": "stderr",
     "output_type": "stream",
     "text": [
      "\n"
     ]
    }
   ],
   "source": [
    "# 四层[Conv+Poll]\n",
    "class Model(nn.Module):\n",
    "    def __init__(self):\n",
    "        super().__init__()\n",
    "        self.net = nn.Sequential(\n",
    "            #\n",
    "            # (3,32,32) -> (32,16,16)\n",
    "            nn.Conv2d(3, 32, 3, padding=1),\n",
    "            nn.BatchNorm2d(32),\n",
    "            nn.ReLU(),\n",
    "            nn.MaxPool2d(2),\n",
    "            #\n",
    "            # (32,16,16) -> (64,8,8)\n",
    "            nn.Conv2d(32, 64, 3, padding=1),\n",
    "            nn.BatchNorm2d(64),\n",
    "            nn.ReLU(),\n",
    "            nn.MaxPool2d(2),\n",
    "            #\n",
    "            # (64,8,8) -> (128,4,4)\n",
    "            nn.Conv2d(64, 128, 3, padding=1),\n",
    "            nn.BatchNorm2d(128),\n",
    "            nn.ReLU(),\n",
    "            nn.MaxPool2d(2),\n",
    "            #\n",
    "            # (128,4,4) -> (256,2,2)\n",
    "            nn.Conv2d(128, 256, 3, padding=1),\n",
    "            nn.BatchNorm2d(256),\n",
    "            nn.ReLU(),\n",
    "            nn.MaxPool2d(2),\n",
    "            #\n",
    "            nn.Flatten(),\n",
    "            nn.Linear(256 * 2 * 2, 1024),\n",
    "            nn.BatchNorm1d(1024),\n",
    "            nn.ReLU(),\n",
    "            nn.Dropout(0.5),\n",
    "            nn.Linear(1024, 10)\n",
    "        )\n",
    "\n",
    "    def forward(self, x):\n",
    "        return self.net(x)\n",
    "\n",
    "\n",
    "model = Model().apply(init_weight).to(device)\n",
    "run(model, nn.CrossEntropyLoss(), 1e-3, 128, dataset, device)"
   ]
  },
  {
   "cell_type": "markdown",
   "metadata": {},
   "source": [
    "| n*[2Conv+Poll]+MLP | 参数量  | 迭代用时 | 最佳迭代次数 | 最佳准确率 |\n",
    "| :----------------: | :-----: | :------: | :----------: | :--------: |\n",
    "|        一层        | 8412202 | 1.09s/it |      85      |   73.91%   |\n",
    "|        两层        | 4273578 | 1.14s/it |     117      |   81.97%   |\n",
    "|        三层        | 2398378 | 1.29s/it |     130      |   84.99%   |\n",
    "|        四层        | 2236074 | 1.53s/it |      39      |   83.29%   |"
   ]
  },
  {
   "cell_type": "code",
   "execution_count": 6,
   "metadata": {},
   "outputs": [
    {
     "name": "stderr",
     "output_type": "stream",
     "text": [
      " 23%|██▎       | 184/800 [03:18<11:05,  1.08s/it, accuracy=75.06%, best_accuracy=75.17%, lr=2e-07, test_loss=1.36e-02, train_loss=1.32e-05]"
     ]
    },
    {
     "name": "stdout",
     "output_type": "stream",
     "text": [
      "模型连续40次无提升，提前终止训练\n",
      "最佳迭代次数: 145\n",
      "最佳准确率：75.17%\n",
      "损失函数=CrossEntropyLoss() 学习率=0.01 批大小=128\n",
      "模型参数=8412202\n"
     ]
    },
    {
     "name": "stderr",
     "output_type": "stream",
     "text": [
      "\n"
     ]
    }
   ],
   "source": [
    "# 一层[2Conv+Poll]\n",
    "class Model(nn.Module):\n",
    "    def __init__(self):\n",
    "        super().__init__()\n",
    "        self.net = nn.Sequential(\n",
    "            #\n",
    "            # (3,32,32) -> (32,16,16)\n",
    "            nn.Conv2d(3, 32, 3, padding=1),\n",
    "            nn.BatchNorm2d(32),\n",
    "            nn.ReLU(),\n",
    "            nn.Conv2d(32, 32, 3, padding=1),\n",
    "            nn.BatchNorm2d(32),\n",
    "            nn.ReLU(),\n",
    "            nn.MaxPool2d(2),\n",
    "            #\n",
    "            nn.Flatten(),\n",
    "            nn.Linear(32 * 16 * 16, 1024),\n",
    "            nn.BatchNorm1d(1024),\n",
    "            nn.ReLU(),\n",
    "            nn.Dropout(0.5),\n",
    "            nn.Linear(1024, 10)\n",
    "        )\n",
    "\n",
    "    def forward(self, x):\n",
    "        return self.net(x)\n",
    "\n",
    "\n",
    "model = Model().apply(init_weight).to(device)\n",
    "run(model, nn.CrossEntropyLoss(), 1e-2, 128, dataset, device)"
   ]
  },
  {
   "cell_type": "code",
   "execution_count": 7,
   "metadata": {},
   "outputs": [
    {
     "name": "stderr",
     "output_type": "stream",
     "text": [
      " 23%|██▎       | 186/800 [03:34<11:48,  1.15s/it, accuracy=82.42%, best_accuracy=82.58%, lr=2e-07, test_loss=9.87e-03, train_loss=8.54e-06]"
     ]
    },
    {
     "name": "stdout",
     "output_type": "stream",
     "text": [
      "模型连续40次无提升，提前终止训练\n",
      "最佳迭代次数: 147\n",
      "最佳准确率：82.58%\n",
      "损失函数=CrossEntropyLoss() 学习率=0.01 批大小=128\n",
      "模型参数=4273578\n"
     ]
    },
    {
     "name": "stderr",
     "output_type": "stream",
     "text": [
      "\n"
     ]
    }
   ],
   "source": [
    "# 两层[2Conv+Poll]\n",
    "class Model(nn.Module):\n",
    "    def __init__(self):\n",
    "        super().__init__()\n",
    "        self.net = nn.Sequential(\n",
    "            #\n",
    "            # (3,32,32) -> (32,16,16)\n",
    "            nn.Conv2d(3, 32, 3, padding=1),\n",
    "            nn.BatchNorm2d(32),\n",
    "            nn.ReLU(),\n",
    "            nn.Conv2d(32, 32, 3, padding=1),\n",
    "            nn.BatchNorm2d(32),\n",
    "            nn.ReLU(),\n",
    "            nn.MaxPool2d(2),\n",
    "            #\n",
    "            # (3,16,16) -> (64,8,8)\n",
    "            nn.Conv2d(32, 64, 3, padding=1),\n",
    "            nn.BatchNorm2d(64),\n",
    "            nn.ReLU(),\n",
    "            nn.Conv2d(64, 64, 3, padding=1),\n",
    "            nn.BatchNorm2d(64),\n",
    "            nn.ReLU(),\n",
    "            nn.MaxPool2d(2),\n",
    "            #\n",
    "            nn.Flatten(),\n",
    "            nn.Linear(64 * 8 * 8, 1024),\n",
    "            nn.BatchNorm1d(1024),\n",
    "            nn.ReLU(),\n",
    "            nn.Dropout(0.5),\n",
    "            nn.Linear(1024, 10)\n",
    "        )\n",
    "\n",
    "    def forward(self, x):\n",
    "        return self.net(x)\n",
    "\n",
    "\n",
    "model = Model().apply(init_weight).to(device)\n",
    "run(model, nn.CrossEntropyLoss(), 1e-2, 128, dataset, device)"
   ]
  },
  {
   "cell_type": "code",
   "execution_count": 8,
   "metadata": {},
   "outputs": [
    {
     "name": "stderr",
     "output_type": "stream",
     "text": [
      " 17%|█▋        | 138/800 [02:59<14:19,  1.30s/it, accuracy=84.61%, best_accuracy=84.72%, lr=2e-06, test_loss=1.04e-02, train_loss=4.33e-06]"
     ]
    },
    {
     "name": "stdout",
     "output_type": "stream",
     "text": [
      "模型连续40次无提升，提前终止训练\n",
      "最佳迭代次数: 99\n",
      "最佳准确率：84.72%\n",
      "损失函数=CrossEntropyLoss() 学习率=0.01 批大小=128\n",
      "模型参数=2398378\n"
     ]
    },
    {
     "name": "stderr",
     "output_type": "stream",
     "text": [
      "\n"
     ]
    }
   ],
   "source": [
    "# 三层[2Conv+Poll]\n",
    "class Model(nn.Module):\n",
    "    def __init__(self):\n",
    "        super().__init__()\n",
    "        self.net = nn.Sequential(\n",
    "            #\n",
    "            # (3,32,32) -> (32,16,16)\n",
    "            nn.Conv2d(3, 32, 3, padding=1),\n",
    "            nn.BatchNorm2d(32),\n",
    "            nn.ReLU(),\n",
    "            nn.Conv2d(32, 32, 3, padding=1),\n",
    "            nn.BatchNorm2d(32),\n",
    "            nn.ReLU(),\n",
    "            nn.MaxPool2d(2),\n",
    "            #\n",
    "            # (3,16,16) -> (64,8,8)\n",
    "            nn.Conv2d(32, 64, 3, padding=1),\n",
    "            nn.BatchNorm2d(64),\n",
    "            nn.ReLU(),\n",
    "            nn.Conv2d(64, 64, 3, padding=1),\n",
    "            nn.BatchNorm2d(64),\n",
    "            nn.ReLU(),\n",
    "            nn.MaxPool2d(2),\n",
    "            #\n",
    "            # (64,8,8) -> (128,4,4)\n",
    "            nn.Conv2d(64, 128, 3, padding=1),\n",
    "            nn.BatchNorm2d(128),\n",
    "            nn.ReLU(),\n",
    "            nn.Conv2d(128, 128, 3, padding=1),\n",
    "            nn.BatchNorm2d(128),\n",
    "            nn.ReLU(),\n",
    "            nn.MaxPool2d(2),\n",
    "            #\n",
    "            nn.Flatten(),\n",
    "            nn.Linear(128 * 4 * 4, 1024),\n",
    "            nn.BatchNorm1d(1024),\n",
    "            nn.ReLU(),\n",
    "            nn.Dropout(0.5),\n",
    "            nn.Linear(1024, 10)\n",
    "        )\n",
    "\n",
    "    def forward(self, x):\n",
    "        return self.net(x)\n",
    "\n",
    "\n",
    "model = Model().apply(init_weight).to(device)\n",
    "run(model, nn.CrossEntropyLoss(), 1e-2, 128, dataset, device)"
   ]
  },
  {
   "cell_type": "code",
   "execution_count": 9,
   "metadata": {},
   "outputs": [
    {
     "name": "stderr",
     "output_type": "stream",
     "text": [
      "  9%|▉         | 71/800 [01:49<18:42,  1.54s/it, accuracy=83.29%, best_accuracy=83.33%, lr=3e-05, test_loss=9.91e-03, train_loss=3.55e-07]"
     ]
    },
    {
     "name": "stdout",
     "output_type": "stream",
     "text": [
      "模型连续40次无提升，提前终止训练\n",
      "最佳迭代次数: 32\n",
      "最佳准确率：83.33%\n",
      "损失函数=CrossEntropyLoss() 学习率=0.001 批大小=128\n",
      "模型参数=2236074\n"
     ]
    },
    {
     "name": "stderr",
     "output_type": "stream",
     "text": [
      "\n"
     ]
    }
   ],
   "source": [
    "# 四层[2Conv+Poll]\n",
    "class Model(nn.Module):\n",
    "    def __init__(self):\n",
    "        super().__init__()\n",
    "        self.net = nn.Sequential(\n",
    "            #\n",
    "            # (3,32,32) -> (32,16,16)\n",
    "            nn.Conv2d(3, 32, 3, padding=1),\n",
    "            nn.BatchNorm2d(32),\n",
    "            nn.ReLU(),\n",
    "            nn.Conv2d(32, 32, 3, padding=1),\n",
    "            nn.BatchNorm2d(32),\n",
    "            nn.ReLU(),\n",
    "            nn.MaxPool2d(2),\n",
    "            #\n",
    "            # (3,16,16) -> (64,8,8)\n",
    "            nn.Conv2d(32, 64, 3, padding=1),\n",
    "            nn.BatchNorm2d(64),\n",
    "            nn.ReLU(),\n",
    "            nn.Conv2d(64, 64, 3, padding=1),\n",
    "            nn.BatchNorm2d(64),\n",
    "            nn.ReLU(),\n",
    "            nn.MaxPool2d(2),\n",
    "            #\n",
    "            # (64,8,8) -> (128,4,4)\n",
    "            nn.Conv2d(64, 128, 3, padding=1),\n",
    "            nn.BatchNorm2d(128),\n",
    "            nn.ReLU(),\n",
    "            nn.Conv2d(128, 128, 3, padding=1),\n",
    "            nn.BatchNorm2d(128),\n",
    "            nn.ReLU(),\n",
    "            nn.MaxPool2d(2),\n",
    "            #\n",
    "            # (128,4,4) -> (256,2,2)\n",
    "            nn.Conv2d(128, 256, 3, padding=1),\n",
    "            nn.BatchNorm2d(256),\n",
    "            nn.ReLU(),\n",
    "            nn.Conv2d(256, 256, 3, padding=1),\n",
    "            nn.BatchNorm2d(256),\n",
    "            nn.ReLU(),\n",
    "            nn.MaxPool2d(2),\n",
    "            #\n",
    "            nn.Flatten(),\n",
    "            nn.Linear(256 * 2 * 2, 1024),\n",
    "            nn.BatchNorm1d(1024),\n",
    "            nn.ReLU(),\n",
    "            nn.Dropout(0.5),\n",
    "            nn.Linear(1024, 10)\n",
    "        )\n",
    "\n",
    "    def forward(self, x):\n",
    "        return self.net(x)\n",
    "\n",
    "\n",
    "model = Model().apply(init_weight).to(device)\n",
    "run(model, nn.CrossEntropyLoss(), 1e-3, 128, dataset, device)"
   ]
  },
  {
   "cell_type": "markdown",
   "metadata": {},
   "source": [
    "| n*[2Conv+Poll]+MLP | 卷积核 | 参数量  | 迭代用时 | 最佳迭代次数 | 最佳准确率 |\n",
    "| :----------------: | :----: | :-----: | :------: | :----------: | :--------: |\n",
    "|        一层        |   3    | 8412202 | 1.09s/it |      85      |   73.91%   |\n",
    "|        一层        |   5    | 8430122 | 1.37s/it |      28      |   63.35%   |\n",
    "|        一层        |   7    | 8457002 | 1.66s/it |      35      |   60.62%   |"
   ]
  },
  {
   "cell_type": "code",
   "execution_count": 10,
   "metadata": {},
   "outputs": [
    {
     "name": "stderr",
     "output_type": "stream",
     "text": [
      " 20%|█▉        | 156/800 [03:30<14:29,  1.35s/it, accuracy=75.09%, best_accuracy=75.30%, lr=1e-06, test_loss=1.34e-02, train_loss=2.07e-05]"
     ]
    },
    {
     "name": "stdout",
     "output_type": "stream",
     "text": [
      "模型连续40次无提升，提前终止训练\n",
      "最佳迭代次数: 117\n",
      "最佳准确率：75.30%\n",
      "损失函数=CrossEntropyLoss() 学习率=0.01 批大小=128\n",
      "模型参数=8430122\n"
     ]
    },
    {
     "name": "stderr",
     "output_type": "stream",
     "text": [
      "\n"
     ]
    }
   ],
   "source": [
    "# 一层[2Conv+Poll] ker=5\n",
    "class Model(nn.Module):\n",
    "    def __init__(self):\n",
    "        super().__init__()\n",
    "        self.net = nn.Sequential(\n",
    "            #\n",
    "            # (3,32,32) -> (32,16,16)\n",
    "            nn.Conv2d(3, 32, 5, padding=2),\n",
    "            nn.BatchNorm2d(32),\n",
    "            nn.ReLU(),\n",
    "            nn.Conv2d(32, 32, 5, padding=2),\n",
    "            nn.BatchNorm2d(32),\n",
    "            nn.ReLU(),\n",
    "            nn.MaxPool2d(2),\n",
    "            #\n",
    "            nn.Flatten(),\n",
    "            nn.Linear(32 * 16 * 16, 1024),\n",
    "            nn.BatchNorm1d(1024),\n",
    "            nn.ReLU(),\n",
    "            nn.Dropout(0.5),\n",
    "            nn.Linear(1024, 10)\n",
    "        )\n",
    "\n",
    "    def forward(self, x):\n",
    "        return self.net(x)\n",
    "\n",
    "\n",
    "model = Model().apply(init_weight).to(device)\n",
    "run(model, nn.CrossEntropyLoss(), 1e-2, 128, dataset, device)"
   ]
  },
  {
   "cell_type": "code",
   "execution_count": null,
   "metadata": {},
   "outputs": [
    {
     "name": "stderr",
     "output_type": "stream",
     "text": [
      " 19%|█▉        | 150/800 [04:04<17:40,  1.63s/it, accuracy=74.56%, best_accuracy=74.62%, lr=1e-06, test_loss=1.37e-02, train_loss=2.08e-05]"
     ]
    },
    {
     "name": "stdout",
     "output_type": "stream",
     "text": [
      "模型连续40次无提升，提前终止训练\n",
      "最佳迭代次数: 111\n",
      "最佳准确率：74.62%\n",
      "损失函数=CrossEntropyLoss() 学习率=0.01 批大小=128\n",
      "模型参数=8457002\n"
     ]
    },
    {
     "name": "stderr",
     "output_type": "stream",
     "text": [
      "\n"
     ]
    }
   ],
   "source": [
    "# 一层[2Conv+Poll] ker=7\n",
    "class Model(nn.Module):\n",
    "    def __init__(self):\n",
    "        super().__init__()\n",
    "        self.net = nn.Sequential(\n",
    "            #\n",
    "            # (3,32,32) -> (32,16,16)\n",
    "            nn.Conv2d(3, 32, 7, padding=3),\n",
    "            nn.BatchNorm2d(32),\n",
    "            nn.ReLU(),\n",
    "            nn.Conv2d(32, 32, 7, padding=3),\n",
    "            nn.BatchNorm2d(32),\n",
    "            nn.ReLU(),\n",
    "            nn.MaxPool2d(2),\n",
    "            #\n",
    "            nn.Flatten(),\n",
    "            nn.Linear(32 * 16 * 16, 1024),\n",
    "            nn.BatchNorm1d(1024),\n",
    "            nn.ReLU(),\n",
    "            nn.Dropout(0.5),\n",
    "            nn.Linear(1024, 10)\n",
    "        )\n",
    "\n",
    "    def forward(self, x):\n",
    "        return self.net(x)\n",
    "\n",
    "\n",
    "model = Model().apply(init_weight).to(device)\n",
    "run(model, nn.CrossEntropyLoss(), 1e-2, 128, dataset, device)"
   ]
  },
  {
   "cell_type": "markdown",
   "metadata": {},
   "source": [
    "| n*[2Conv+Poll]+MLP | 池化方式 | 迭代用时 | 最佳迭代次数 | 最佳准确率 |\n",
    "| :----------------: | :------: | :------: | :----------: | :--------: |\n",
    "|        一层        |   最大   | 1.09s/it |      85      |   73.91%   |\n",
    "|        一层        |   平均   | 1.11s/it |      61      |   72.83%   |\n"
   ]
  },
  {
   "cell_type": "code",
   "execution_count": 12,
   "metadata": {},
   "outputs": [
    {
     "name": "stderr",
     "output_type": "stream",
     "text": [
      " 15%|█▌        | 120/800 [02:10<12:20,  1.09s/it, accuracy=74.08%, best_accuracy=74.29%, lr=1e-05, test_loss=1.36e-02, train_loss=1.85e-05]"
     ]
    },
    {
     "name": "stdout",
     "output_type": "stream",
     "text": [
      "模型连续40次无提升，提前终止训练\n",
      "最佳迭代次数: 81\n",
      "最佳准确率：74.29%\n",
      "损失函数=CrossEntropyLoss() 学习率=0.01 批大小=128\n",
      "模型参数=8412202\n"
     ]
    },
    {
     "name": "stderr",
     "output_type": "stream",
     "text": [
      "\n"
     ]
    }
   ],
   "source": [
    "# 一层[2Conv+Poll] avg池化\n",
    "class Model(nn.Module):\n",
    "    def __init__(self):\n",
    "        super().__init__()\n",
    "        self.net = nn.Sequential(\n",
    "            #\n",
    "            # (3,32,32) -> (32,16,16)\n",
    "            nn.Conv2d(3, 32, 3, padding=1),\n",
    "            nn.BatchNorm2d(32),\n",
    "            nn.ReLU(),\n",
    "            nn.Conv2d(32, 32, 3, padding=1),\n",
    "            nn.BatchNorm2d(32),\n",
    "            nn.ReLU(),\n",
    "            nn.AvgPool2d(2),\n",
    "            #\n",
    "            nn.Flatten(),\n",
    "            nn.Linear(32 * 16 * 16, 1024),\n",
    "            nn.BatchNorm1d(1024),\n",
    "            nn.ReLU(),\n",
    "            nn.Dropout(0.5),\n",
    "            nn.Linear(1024, 10)\n",
    "        )\n",
    "\n",
    "    def forward(self, x):\n",
    "        return self.net(x)\n",
    "\n",
    "\n",
    "model = Model().apply(init_weight).to(device)\n",
    "run(model, nn.CrossEntropyLoss(), 1e-2, 128, dataset, device)"
   ]
  }
 ],
 "metadata": {
  "kernelspec": {
   "display_name": "base",
   "language": "python",
   "name": "python3"
  },
  "language_info": {
   "codemirror_mode": {
    "name": "ipython",
    "version": 3
   },
   "file_extension": ".py",
   "mimetype": "text/x-python",
   "name": "python",
   "nbconvert_exporter": "python",
   "pygments_lexer": "ipython3",
   "version": "3.12.9"
  }
 },
 "nbformat": 4,
 "nbformat_minor": 2
}
