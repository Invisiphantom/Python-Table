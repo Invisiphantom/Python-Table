{
 "cells": [
  {
   "cell_type": "code",
   "execution_count": 1,
   "id": "8cf55835",
   "metadata": {},
   "outputs": [],
   "source": [
    "from my.net import *\n",
    "from task1_mnist import train_valid_data, run\n",
    "data = train_valid_data()"
   ]
  },
  {
   "cell_type": "code",
   "execution_count": 2,
   "id": "a2212144",
   "metadata": {},
   "outputs": [
    {
     "name": "stderr",
     "output_type": "stream",
     "text": [
      " 32%|███▏      | 129/400 [01:03<02:13,  2.04it/s, accuracy=97.36%, best_accuracy=97.38%, lr=0.0625, train_loss=0.00482, valid_loss=0.106]"
     ]
    },
    {
     "name": "stdout",
     "output_type": "stream",
     "text": [
      "模型连续20次无提升，提前终止训练\n",
      "准确率97%所需迭代次数: 28\n",
      "最佳迭代次数: 109\n",
      "最佳准确率：97.38%\n",
      "损失函数=CrossEntropy 学习率=0.0625 批大小=512\n",
      "Net(\n",
      "  (0): Flatten()\n",
      "  (1): Mlp(in_features=784, out_features=128)\n",
      "  (2): Relu()\n",
      "  (3): Mlp(in_features=128, out_features=10)\n",
      "  (4): Softmax()\n",
      ")\n"
     ]
    },
    {
     "name": "stderr",
     "output_type": "stream",
     "text": [
      "\n"
     ]
    }
   ],
   "source": [
    "# 两层+Relu+CrossEntropy 512\n",
    "net = Net(\n",
    "    [\n",
    "    {\"module\": Flatten},\n",
    "    {\"module\": Mlp, \"param\": {\"in_features\": 784, \"out_features\": 128}},\n",
    "    {\"module\": Relu},\n",
    "    {\"module\": Mlp, \"param\": {\"in_features\": 128, \"out_features\": 10}},\n",
    "    {\"module\": Softmax},\n",
    "    ]\n",
    ")\n",
    "run(net,CrossEntropy, 1, 512, data)"
   ]
  },
  {
   "cell_type": "code",
   "execution_count": 3,
   "id": "23a24ec4",
   "metadata": {},
   "outputs": [
    {
     "name": "stderr",
     "output_type": "stream",
     "text": [
      " 31%|███       | 124/400 [01:32<03:25,  1.34it/s, accuracy=97.08%, best_accuracy=97.16%, lr=0.25, train_loss=0.0198, valid_loss=0.105]"
     ]
    },
    {
     "name": "stdout",
     "output_type": "stream",
     "text": [
      "模型连续20次无提升，提前终止训练\n",
      "准确率97%所需迭代次数: 81\n",
      "最佳迭代次数: 104\n",
      "最佳准确率：97.16%\n",
      "损失函数=CrossEntropy 学习率=0.25 批大小=512\n",
      "Net(\n",
      "  (0): Flatten()\n",
      "  (1): Mlp(in_features=784, out_features=128)\n",
      "  (2): Relu()\n",
      "  (3): Mlp(in_features=128, out_features=16)\n",
      "  (4): Relu()\n",
      "  (5): Mlp(in_features=16, out_features=10)\n",
      "  (6): Softmax()\n",
      ")\n"
     ]
    },
    {
     "name": "stderr",
     "output_type": "stream",
     "text": [
      "\n"
     ]
    }
   ],
   "source": [
    "# 三层+Relu+CrossEntropy 512\n",
    "net = Net(\n",
    "    [\n",
    "    {\"module\": Flatten},\n",
    "    {\"module\": Mlp, \"param\": {\"in_features\": 784, \"out_features\": 128}},\n",
    "    {\"module\": Relu},\n",
    "    {\"module\": Mlp, \"param\": {\"in_features\": 128, \"out_features\": 16}},\n",
    "    {\"module\": Relu},\n",
    "    {\"module\": Mlp, \"param\": {\"in_features\": 16, \"out_features\": 10}},\n",
    "    {\"module\": Softmax},\n",
    "    ]\n",
    ")\n",
    "run(net,CrossEntropy, 1, 512, data)"
   ]
  },
  {
   "cell_type": "code",
   "execution_count": 4,
   "id": "af880cf8",
   "metadata": {},
   "outputs": [
    {
     "name": "stderr",
     "output_type": "stream",
     "text": [
      " 40%|███▉      | 158/400 [03:02<04:39,  1.16s/it, accuracy=97.00%, best_accuracy=97.06%, lr=0.25, train_loss=0.0253, valid_loss=0.114]"
     ]
    },
    {
     "name": "stdout",
     "output_type": "stream",
     "text": [
      "模型连续20次无提升，提前终止训练\n",
      "准确率97%所需迭代次数: 114\n",
      "最佳迭代次数: 138\n",
      "最佳准确率：97.06%\n",
      "损失函数=CrossEntropy 学习率=0.25 批大小=512\n",
      "Net(\n",
      "  (0): Flatten()\n",
      "  (1): Mlp(in_features=784, out_features=256)\n",
      "  (2): Relu()\n",
      "  (3): Mlp(in_features=256, out_features=64)\n",
      "  (4): Relu()\n",
      "  (5): Mlp(in_features=64, out_features=16)\n",
      "  (6): Relu()\n",
      "  (7): Mlp(in_features=16, out_features=10)\n",
      "  (8): Softmax()\n",
      ")\n"
     ]
    },
    {
     "name": "stderr",
     "output_type": "stream",
     "text": [
      "\n"
     ]
    }
   ],
   "source": [
    "# 四层+Relu+CrossEntropy 512\n",
    "net = Net(\n",
    "    [\n",
    "    {\"module\": Flatten},\n",
    "    {\"module\": Mlp, \"param\": {\"in_features\": 784, \"out_features\": 256}},\n",
    "    {\"module\": Relu},\n",
    "    {\"module\": Mlp, \"param\": {\"in_features\": 256, \"out_features\": 64}},\n",
    "    {\"module\": Relu},\n",
    "    {\"module\": Mlp, \"param\": {\"in_features\": 64, \"out_features\": 16}},\n",
    "    {\"module\": Relu},\n",
    "    {\"module\": Mlp, \"param\": {\"in_features\": 16, \"out_features\": 10}},\n",
    "    {\"module\": Softmax},\n",
    "    ]\n",
    ")\n",
    "run(net,CrossEntropy, 1, 512, data)"
   ]
  },
  {
   "cell_type": "code",
   "execution_count": 5,
   "id": "f62afd34",
   "metadata": {},
   "outputs": [
    {
     "name": "stderr",
     "output_type": "stream",
     "text": [
      " 24%|██▍       | 96/400 [02:09<06:50,  1.35s/it, accuracy=97.32%, best_accuracy=97.35%, lr=0.25, train_loss=0.0053, valid_loss=0.105] "
     ]
    },
    {
     "name": "stdout",
     "output_type": "stream",
     "text": [
      "模型连续20次无提升，提前终止训练\n",
      "准确率97%所需迭代次数: 27\n",
      "最佳迭代次数: 76\n",
      "最佳准确率：97.35%\n",
      "损失函数=CrossEntropy 学习率=0.25 批大小=512\n",
      "Net(\n",
      "  (0): Flatten()\n",
      "  (1): Mlp(in_features=784, out_features=128)\n",
      "  (2): Gelu()\n",
      "  (3): Mlp(in_features=128, out_features=10)\n",
      "  (4): Softmax()\n",
      ")\n"
     ]
    },
    {
     "name": "stderr",
     "output_type": "stream",
     "text": [
      "\n"
     ]
    }
   ],
   "source": [
    "# 两层+Gelu+CrossEntropy 512\n",
    "net = Net(\n",
    "    [\n",
    "    {\"module\": Flatten},\n",
    "    {\"module\": Mlp, \"param\": {\"in_features\": 784, \"out_features\": 128}},\n",
    "    {\"module\": Gelu},\n",
    "    {\"module\": Mlp, \"param\": {\"in_features\": 128, \"out_features\": 10}},\n",
    "    {\"module\": Softmax},\n",
    "    ]\n",
    ")\n",
    "run(net,CrossEntropy, 1, 512, data)"
   ]
  },
  {
   "cell_type": "code",
   "execution_count": 6,
   "id": "3f43bbd8",
   "metadata": {},
   "outputs": [
    {
     "name": "stderr",
     "output_type": "stream",
     "text": [
      " 42%|████▏     | 168/400 [01:47<02:28,  1.56it/s, accuracy=93.10%, best_accuracy=93.14%, lr=0.5, train_loss=0.168, valid_loss=0.241]"
     ]
    },
    {
     "name": "stdout",
     "output_type": "stream",
     "text": [
      "模型连续20次无提升，提前终止训练\n",
      "准确率97%所需迭代次数: 0\n",
      "最佳迭代次数: 148\n",
      "最佳准确率：93.14%\n",
      "损失函数=CrossEntropy 学习率=0.5 批大小=512\n",
      "Net(\n",
      "  (0): Flatten()\n",
      "  (1): Mlp(in_features=784, out_features=128)\n",
      "  (2): Sigmoid()\n",
      "  (3): Mlp(in_features=128, out_features=10)\n",
      "  (4): Softmax()\n",
      ")\n"
     ]
    },
    {
     "name": "stderr",
     "output_type": "stream",
     "text": [
      "\n"
     ]
    }
   ],
   "source": [
    "# 两层+Sigmoid+CrossEntropy 512\n",
    "net = Net(\n",
    "    [\n",
    "    {\"module\": Flatten},\n",
    "    {\"module\": Mlp, \"param\": {\"in_features\": 784, \"out_features\": 128}},\n",
    "    {\"module\": Sigmoid},\n",
    "    {\"module\": Mlp, \"param\": {\"in_features\": 128, \"out_features\": 10}},\n",
    "    {\"module\": Softmax},\n",
    "    ]\n",
    ")\n",
    "run(net,CrossEntropy, 1, 512, data)"
   ]
  },
  {
   "cell_type": "code",
   "execution_count": 7,
   "id": "d8ef4a41",
   "metadata": {},
   "outputs": [
    {
     "name": "stderr",
     "output_type": "stream",
     "text": [
      " 19%|█▉        | 77/400 [00:39<02:45,  1.95it/s, accuracy=96.80%, best_accuracy=96.86%, lr=0.5, train_loss=0.00146, valid_loss=0.00497]"
     ]
    },
    {
     "name": "stdout",
     "output_type": "stream",
     "text": [
      "模型连续20次无提升，提前终止训练\n",
      "准确率97%所需迭代次数: 0\n",
      "最佳迭代次数: 57\n",
      "最佳准确率：96.86%\n",
      "损失函数=Mse 学习率=0.5 批大小=512\n",
      "Net(\n",
      "  (0): Flatten()\n",
      "  (1): Mlp(in_features=784, out_features=128)\n",
      "  (2): Relu()\n",
      "  (3): Mlp(in_features=128, out_features=10)\n",
      "  (4): Softmax()\n",
      ")\n"
     ]
    },
    {
     "name": "stderr",
     "output_type": "stream",
     "text": [
      "\n"
     ]
    }
   ],
   "source": [
    "# 两层+Relu+MSE 512\n",
    "net = Net(\n",
    "    [\n",
    "    {\"module\": Flatten},\n",
    "    {\"module\": Mlp, \"param\": {\"in_features\": 784, \"out_features\": 128}},\n",
    "    {\"module\": Relu},\n",
    "    {\"module\": Mlp, \"param\": {\"in_features\": 128, \"out_features\": 10}},\n",
    "    {\"module\": Softmax},\n",
    "    ]\n",
    ")\n",
    "run(net,Mse, 1, 512, data)"
   ]
  },
  {
   "cell_type": "code",
   "execution_count": 8,
   "id": "bc682a26",
   "metadata": {},
   "outputs": [
    {
     "name": "stderr",
     "output_type": "stream",
     "text": [
      " 47%|████▋     | 188/400 [01:32<01:44,  2.02it/s, accuracy=97.12%, best_accuracy=97.15%, lr=0.125, train_loss=0.0213, valid_loss=0.0992]"
     ]
    },
    {
     "name": "stdout",
     "output_type": "stream",
     "text": [
      "模型连续20次无提升，提前终止训练\n",
      "准确率97%所需迭代次数: 107\n",
      "最佳迭代次数: 168\n",
      "最佳准确率：97.15%\n",
      "损失函数=CrossEntropy 学习率=0.125 批大小=1024\n",
      "Net(\n",
      "  (0): Flatten()\n",
      "  (1): Mlp(in_features=784, out_features=128)\n",
      "  (2): Relu()\n",
      "  (3): Mlp(in_features=128, out_features=10)\n",
      "  (4): Softmax()\n",
      ")\n"
     ]
    },
    {
     "name": "stderr",
     "output_type": "stream",
     "text": [
      "\n"
     ]
    }
   ],
   "source": [
    "# 两层+Relu+CrossEntropy 1024\n",
    "net = Net(\n",
    "    [\n",
    "    {\"module\": Flatten},\n",
    "    {\"module\": Mlp, \"param\": {\"in_features\": 784, \"out_features\": 128}},\n",
    "    {\"module\": Relu},\n",
    "    {\"module\": Mlp, \"param\": {\"in_features\": 128, \"out_features\": 10}},\n",
    "    {\"module\": Softmax},\n",
    "    ]\n",
    ")\n",
    "run(net,CrossEntropy, 1, 1024, data)"
   ]
  },
  {
   "cell_type": "code",
   "execution_count": 9,
   "id": "28465172",
   "metadata": {},
   "outputs": [
    {
     "name": "stderr",
     "output_type": "stream",
     "text": [
      " 16%|█▋        | 66/400 [00:37<03:07,  1.78it/s, accuracy=97.43%, best_accuracy=97.45%, lr=0.5, train_loss=0.000958, valid_loss=0.129]"
     ]
    },
    {
     "name": "stdout",
     "output_type": "stream",
     "text": [
      "模型连续20次无提升，提前终止训练\n",
      "准确率97%所需迭代次数: 14\n",
      "最佳迭代次数: 46\n",
      "最佳准确率：97.45%\n",
      "损失函数=CrossEntropy 学习率=0.5 批大小=256\n",
      "Net(\n",
      "  (0): Flatten()\n",
      "  (1): Mlp(in_features=784, out_features=128)\n",
      "  (2): Relu()\n",
      "  (3): Mlp(in_features=128, out_features=10)\n",
      "  (4): Softmax()\n",
      ")\n"
     ]
    },
    {
     "name": "stderr",
     "output_type": "stream",
     "text": [
      "\n"
     ]
    }
   ],
   "source": [
    "# 两层+Relu+CrossEntropy 256\n",
    "net = Net(\n",
    "    [\n",
    "    {\"module\": Flatten},\n",
    "    {\"module\": Mlp, \"param\": {\"in_features\": 784, \"out_features\": 128}},\n",
    "    {\"module\": Relu},\n",
    "    {\"module\": Mlp, \"param\": {\"in_features\": 128, \"out_features\": 10}},\n",
    "    {\"module\": Softmax},\n",
    "    ]\n",
    ")\n",
    "run(net,CrossEntropy, 1, 256, data)"
   ]
  },
  {
   "cell_type": "code",
   "execution_count": 10,
   "id": "1b6d0209",
   "metadata": {},
   "outputs": [
    {
     "name": "stderr",
     "output_type": "stream",
     "text": [
      " 18%|█▊        | 73/400 [00:54<04:02,  1.35it/s, accuracy=94.47%, best_accuracy=94.86%, lr=0.25, train_loss=0.0535, valid_loss=0.291]"
     ]
    },
    {
     "name": "stdout",
     "output_type": "stream",
     "text": [
      "模型连续20次无提升，提前终止训练\n",
      "准确率97%所需迭代次数: 0\n",
      "最佳迭代次数: 53\n",
      "最佳准确率：94.86%\n",
      "损失函数=CrossEntropy 学习率=0.25 批大小=128\n",
      "Net(\n",
      "  (0): Flatten()\n",
      "  (1): Mlp(in_features=784, out_features=128)\n",
      "  (2): Relu()\n",
      "  (3): Mlp(in_features=128, out_features=10)\n",
      "  (4): Softmax()\n",
      ")\n"
     ]
    },
    {
     "name": "stderr",
     "output_type": "stream",
     "text": [
      "\n"
     ]
    }
   ],
   "source": [
    "# 两层+Relu+CrossEntropy 128\n",
    "net = Net(\n",
    "    [\n",
    "    {\"module\": Flatten},\n",
    "    {\"module\": Mlp, \"param\": {\"in_features\": 784, \"out_features\": 128}},\n",
    "    {\"module\": Relu},\n",
    "    {\"module\": Mlp, \"param\": {\"in_features\": 128, \"out_features\": 10}},\n",
    "    {\"module\": Softmax},\n",
    "    ]\n",
    ")\n",
    "run(net,CrossEntropy, 1, 128, data)"
   ]
  },
  {
   "cell_type": "code",
   "execution_count": 11,
   "id": "74f4835f",
   "metadata": {},
   "outputs": [
    {
     "name": "stderr",
     "output_type": "stream",
     "text": [
      "  5%|▌         | 21/400 [00:34<10:13,  1.62s/it, accuracy=9.98%, best_accuracy=9.98%, lr=0.5, train_loss=25, valid_loss=24.9]"
     ]
    },
    {
     "name": "stdout",
     "output_type": "stream",
     "text": [
      "模型连续20次无提升，提前终止训练\n",
      "准确率97%所需迭代次数: 0\n",
      "最佳迭代次数: 1\n",
      "最佳准确率：9.98%\n",
      "损失函数=CrossEntropy 学习率=0.5 批大小=64\n",
      "Net(\n",
      "  (0): Flatten()\n",
      "  (1): Mlp(in_features=784, out_features=128)\n",
      "  (2): Relu()\n",
      "  (3): Mlp(in_features=128, out_features=10)\n",
      "  (4): Softmax()\n",
      ")\n"
     ]
    },
    {
     "name": "stderr",
     "output_type": "stream",
     "text": [
      "\n"
     ]
    }
   ],
   "source": [
    "# 两层+Relu+CrossEntropy 64\n",
    "net = Net(\n",
    "    [\n",
    "    {\"module\": Flatten},\n",
    "    {\"module\": Mlp, \"param\": {\"in_features\": 784, \"out_features\": 128}},\n",
    "    {\"module\": Relu},\n",
    "    {\"module\": Mlp, \"param\": {\"in_features\": 128, \"out_features\": 10}},\n",
    "    {\"module\": Softmax},\n",
    "    ]\n",
    ")\n",
    "run(net,CrossEntropy, 1, 64, data)"
   ]
  },
  {
   "cell_type": "code",
   "execution_count": 12,
   "id": "04fe5ce2",
   "metadata": {},
   "outputs": [
    {
     "name": "stderr",
     "output_type": "stream",
     "text": [
      " 65%|██████▌   | 260/400 [02:06<01:08,  2.05it/s, accuracy=96.79%, best_accuracy=96.80%, lr=0.025, train_loss=0.0435, valid_loss=0.106]"
     ]
    },
    {
     "name": "stdout",
     "output_type": "stream",
     "text": [
      "模型连续20次无提升，提前终止训练\n",
      "准确率97%所需迭代次数: 0\n",
      "最佳迭代次数: 240\n",
      "最佳准确率：96.80%\n",
      "损失函数=CrossEntropy 学习率=0.025 批大小=512\n",
      "Net(\n",
      "  (0): Flatten()\n",
      "  (1): Mlp(in_features=784, out_features=128)\n",
      "  (2): Relu()\n",
      "  (3): Mlp(in_features=128, out_features=10)\n",
      "  (4): Softmax()\n",
      ")\n"
     ]
    },
    {
     "name": "stderr",
     "output_type": "stream",
     "text": [
      "\n"
     ]
    }
   ],
   "source": [
    "# 两层+Relu+CrossEntropy 512 0.1\n",
    "net = Net(\n",
    "    [\n",
    "    {\"module\": Flatten},\n",
    "    {\"module\": Mlp, \"param\": {\"in_features\": 784, \"out_features\": 128}},\n",
    "    {\"module\": Relu},\n",
    "    {\"module\": Mlp, \"param\": {\"in_features\": 128, \"out_features\": 10}},\n",
    "    {\"module\": Softmax},\n",
    "    ]\n",
    ")\n",
    "run(net,CrossEntropy, 0.1, 512, data)"
   ]
  },
  {
   "cell_type": "code",
   "execution_count": 2,
   "id": "e912e808",
   "metadata": {},
   "outputs": [
    {
     "name": "stderr",
     "output_type": "stream",
     "text": [
      " 40%|███▉      | 316/800 [02:13<03:24,  2.37it/s, accuracy=96.48%, best_accuracy=96.53%, lr=0.0125, train_loss=0.0686, valid_loss=0.119]"
     ]
    },
    {
     "name": "stdout",
     "output_type": "stream",
     "text": [
      "模型连续20次无提升，提前终止训练\n",
      "准确率97%所需迭代次数: 0\n",
      "最佳迭代次数: 296\n",
      "最佳准确率：96.53%\n",
      "损失函数=CrossEntropy 学习率=0.0125 批大小=512\n",
      "Net(\n",
      "  (0): Flatten()\n",
      "  (1): Mlp(in_features=784, out_features=128)\n",
      "  (2): Relu()\n",
      "  (3): Mlp(in_features=128, out_features=10)\n",
      "  (4): Softmax()\n",
      ")\n"
     ]
    },
    {
     "name": "stderr",
     "output_type": "stream",
     "text": [
      "\n"
     ]
    }
   ],
   "source": [
    "# 两层+Relu+CrossEntropy 512 0.05\n",
    "net = Net(\n",
    "    [\n",
    "    {\"module\": Flatten},\n",
    "    {\"module\": Mlp, \"param\": {\"in_features\": 784, \"out_features\": 128}},\n",
    "    {\"module\": Relu},\n",
    "    {\"module\": Mlp, \"param\": {\"in_features\": 128, \"out_features\": 10}},\n",
    "    {\"module\": Softmax},\n",
    "    ]\n",
    ")\n",
    "run(net,CrossEntropy, 0.05, 512, data)"
   ]
  },
  {
   "cell_type": "code",
   "execution_count": 14,
   "id": "439599c1",
   "metadata": {},
   "outputs": [
    {
     "name": "stderr",
     "output_type": "stream",
     "text": [
      " 27%|██▋       | 107/400 [00:57<02:37,  1.86it/s, accuracy=97.81%, best_accuracy=97.85%, lr=1.38, train_loss=0.000959, valid_loss=0.126]"
     ]
    },
    {
     "name": "stdout",
     "output_type": "stream",
     "text": [
      "模型连续20次无提升，提前终止训练\n",
      "准确率97%所需迭代次数: 13\n",
      "最佳迭代次数: 87\n",
      "最佳准确率：97.85%\n",
      "损失函数=CrossEntropy 学习率=1.375 批大小=512\n",
      "Net(\n",
      "  (0): Flatten()\n",
      "  (1): Mlp(in_features=784, out_features=128)\n",
      "  (2): Relu()\n",
      "  (3): Dropout(p=0.1)\n",
      "  (4): Mlp(in_features=128, out_features=16)\n",
      "  (5): Relu()\n",
      "  (6): Dropout(p=0.1)\n",
      "  (7): Mlp(in_features=16, out_features=10)\n",
      "  (8): Softmax()\n",
      ")\n"
     ]
    },
    {
     "name": "stderr",
     "output_type": "stream",
     "text": [
      "\n"
     ]
    }
   ],
   "source": [
    "# 三层+Relu+CrossEntropy 512 1 Dropout=0.1\n",
    "net = Net(\n",
    "    [\n",
    "    {\"module\": Flatten},\n",
    "    {\"module\": Mlp, \"param\": {\"in_features\": 784, \"out_features\": 128}},\n",
    "    {\"module\": Relu},\n",
    "    {\"module\": Dropout, \"param\": {\"p\": 0.1}},\n",
    "    {\"module\": Mlp, \"param\": {\"in_features\": 128, \"out_features\": 16}},\n",
    "    {\"module\": Relu},\n",
    "    {\"module\": Dropout, \"param\": {\"p\": 0.1}},\n",
    "    {\"module\": Mlp, \"param\": {\"in_features\": 16, \"out_features\": 10}},\n",
    "    {\"module\": Softmax},\n",
    "    ]\n",
    ")\n",
    "run(net,CrossEntropy, 11, 512, data)"
   ]
  },
  {
   "cell_type": "code",
   "execution_count": 15,
   "id": "8d8b1aa8",
   "metadata": {},
   "outputs": [
    {
     "name": "stderr",
     "output_type": "stream",
     "text": [
      " 19%|█▉        | 75/400 [00:39<02:51,  1.90it/s, accuracy=97.62%, best_accuracy=97.67%, lr=2.75, train_loss=0.00502, valid_loss=0.123]"
     ]
    },
    {
     "name": "stdout",
     "output_type": "stream",
     "text": [
      "模型连续20次无提升，提前终止训练\n",
      "准确率97%所需迭代次数: 14\n",
      "最佳迭代次数: 55\n",
      "最佳准确率：97.67%\n",
      "损失函数=CrossEntropy 学习率=2.75 批大小=512\n",
      "Net(\n",
      "  (0): Flatten()\n",
      "  (1): Mlp(in_features=784, out_features=128)\n",
      "  (2): Relu()\n",
      "  (3): Dropout(p=0.2)\n",
      "  (4): Mlp(in_features=128, out_features=16)\n",
      "  (5): Relu()\n",
      "  (6): Dropout(p=0.2)\n",
      "  (7): Mlp(in_features=16, out_features=10)\n",
      "  (8): Softmax()\n",
      ")\n"
     ]
    },
    {
     "name": "stderr",
     "output_type": "stream",
     "text": [
      "\n"
     ]
    }
   ],
   "source": [
    "# 三层+Relu+CrossEntropy 512 1 Dropout=0.2\n",
    "net = Net(\n",
    "    [\n",
    "    {\"module\": Flatten},\n",
    "    {\"module\": Mlp, \"param\": {\"in_features\": 784, \"out_features\": 128}},\n",
    "    {\"module\": Relu},\n",
    "    {\"module\": Dropout, \"param\": {\"p\": 0.2}},\n",
    "    {\"module\": Mlp, \"param\": {\"in_features\": 128, \"out_features\": 16}},\n",
    "    {\"module\": Relu},\n",
    "    {\"module\": Dropout, \"param\": {\"p\": 0.2}},\n",
    "    {\"module\": Mlp, \"param\": {\"in_features\": 16, \"out_features\": 10}},\n",
    "    {\"module\": Softmax},\n",
    "    ]\n",
    ")\n",
    "run(net,CrossEntropy, 11, 512, data)"
   ]
  },
  {
   "cell_type": "code",
   "execution_count": 16,
   "id": "16fd0abd",
   "metadata": {},
   "outputs": [
    {
     "name": "stderr",
     "output_type": "stream",
     "text": [
      " 20%|██        | 82/400 [00:44<02:53,  1.84it/s, accuracy=97.44%, best_accuracy=97.55%, lr=2.75, train_loss=0.0102, valid_loss=0.143]"
     ]
    },
    {
     "name": "stdout",
     "output_type": "stream",
     "text": [
      "模型连续20次无提升，提前终止训练\n",
      "准确率97%所需迭代次数: 21\n",
      "最佳迭代次数: 62\n",
      "最佳准确率：97.55%\n",
      "损失函数=CrossEntropy 学习率=2.75 批大小=512\n",
      "Net(\n",
      "  (0): Flatten()\n",
      "  (1): Mlp(in_features=784, out_features=128)\n",
      "  (2): Relu()\n",
      "  (3): Dropout(p=0.3)\n",
      "  (4): Mlp(in_features=128, out_features=16)\n",
      "  (5): Relu()\n",
      "  (6): Dropout(p=0.3)\n",
      "  (7): Mlp(in_features=16, out_features=10)\n",
      "  (8): Softmax()\n",
      ")\n"
     ]
    },
    {
     "name": "stderr",
     "output_type": "stream",
     "text": [
      "\n"
     ]
    }
   ],
   "source": [
    "# 三层+Relu+CrossEntropy 512 1 Dropout=0.3\n",
    "net = Net(\n",
    "    [\n",
    "    {\"module\": Flatten},\n",
    "    {\"module\": Mlp, \"param\": {\"in_features\": 784, \"out_features\": 128}},\n",
    "    {\"module\": Relu},\n",
    "    {\"module\": Dropout, \"param\": {\"p\": 0.3}},\n",
    "    {\"module\": Mlp, \"param\": {\"in_features\": 128, \"out_features\": 16}},\n",
    "    {\"module\": Relu},\n",
    "    {\"module\": Dropout, \"param\": {\"p\": 0.3}},\n",
    "    {\"module\": Mlp, \"param\": {\"in_features\": 16, \"out_features\": 10}},\n",
    "    {\"module\": Softmax},\n",
    "    ]\n",
    ")\n",
    "run(net,CrossEntropy, 11, 512, data)"
   ]
  }
 ],
 "metadata": {
  "kernelspec": {
   "display_name": "base",
   "language": "python",
   "name": "python3"
  },
  "language_info": {
   "codemirror_mode": {
    "name": "ipython",
    "version": 3
   },
   "file_extension": ".py",
   "mimetype": "text/x-python",
   "name": "python",
   "nbconvert_exporter": "python",
   "pygments_lexer": "ipython3",
   "version": "3.12.9"
  }
 },
 "nbformat": 4,
 "nbformat_minor": 5
}
