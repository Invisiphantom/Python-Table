{
 "cells": [
  {
   "cell_type": "code",
   "execution_count": 1,
   "id": "8cf55835",
   "metadata": {},
   "outputs": [],
   "source": [
    "from my.net import *\n",
    "from task1_mnist import train_valid_data, run\n",
    "data = train_valid_data()"
   ]
  },
  {
   "cell_type": "code",
   "execution_count": 2,
   "id": "a2212144",
   "metadata": {},
   "outputs": [
    {
     "name": "stderr",
     "output_type": "stream",
     "text": [
      " 19%|█▊        | 149/800 [01:06<04:51,  2.23it/s, accuracy=97.36%, best_accuracy=97.38%, lr=0.0156, train_loss=0.00476, valid_loss=0.106]"
     ]
    },
    {
     "name": "stdout",
     "output_type": "stream",
     "text": [
      "模型连续40次无提升，提前终止训练\n",
      "准确率97%所需迭代次数: 28\n",
      "最佳迭代次数: 109\n",
      "最佳准确率：97.38%\n",
      "损失函数=CrossEntropy 学习率=0.015625 批大小=512\n",
      "Net(\n",
      "  (0): Flatten()\n",
      "  (1): Mlp(in_features=784, out_features=128)\n",
      "  (2): Relu()\n",
      "  (3): Mlp(in_features=128, out_features=10)\n",
      "  (4): Softmax()\n",
      ")\n"
     ]
    },
    {
     "name": "stderr",
     "output_type": "stream",
     "text": [
      "\n"
     ]
    }
   ],
   "source": [
    "# 两层+Relu+CrossEntropy 512\n",
    "net = Net(\n",
    "    [\n",
    "    {\"module\": Flatten},\n",
    "    {\"module\": Mlp, \"param\": {\"in_features\": 784, \"out_features\": 128}},\n",
    "    {\"module\": Relu},\n",
    "    {\"module\": Mlp, \"param\": {\"in_features\": 128, \"out_features\": 10}},\n",
    "    {\"module\": Softmax},\n",
    "    ]\n",
    ")\n",
    "run(net,CrossEntropy, 1, 512, data)"
   ]
  },
  {
   "cell_type": "code",
   "execution_count": 3,
   "id": "23a24ec4",
   "metadata": {},
   "outputs": [
    {
     "name": "stderr",
     "output_type": "stream",
     "text": [
      " 22%|██▏       | 177/800 [01:12<04:15,  2.44it/s, accuracy=97.12%, best_accuracy=97.17%, lr=0.0156, train_loss=0.0179, valid_loss=0.106]"
     ]
    },
    {
     "name": "stdout",
     "output_type": "stream",
     "text": [
      "模型连续40次无提升，提前终止训练\n",
      "准确率97%所需迭代次数: 81\n",
      "最佳迭代次数: 137\n",
      "最佳准确率：97.17%\n",
      "损失函数=CrossEntropy 学习率=0.015625 批大小=512\n",
      "Net(\n",
      "  (0): Flatten()\n",
      "  (1): Mlp(in_features=784, out_features=128)\n",
      "  (2): Relu()\n",
      "  (3): Mlp(in_features=128, out_features=16)\n",
      "  (4): Relu()\n",
      "  (5): Mlp(in_features=16, out_features=10)\n",
      "  (6): Softmax()\n",
      ")\n"
     ]
    },
    {
     "name": "stderr",
     "output_type": "stream",
     "text": [
      "\n"
     ]
    }
   ],
   "source": [
    "# 三层+Relu+CrossEntropy 512\n",
    "net = Net(\n",
    "    [\n",
    "    {\"module\": Flatten},\n",
    "    {\"module\": Mlp, \"param\": {\"in_features\": 784, \"out_features\": 128}},\n",
    "    {\"module\": Relu},\n",
    "    {\"module\": Mlp, \"param\": {\"in_features\": 128, \"out_features\": 16}},\n",
    "    {\"module\": Relu},\n",
    "    {\"module\": Mlp, \"param\": {\"in_features\": 16, \"out_features\": 10}},\n",
    "    {\"module\": Softmax},\n",
    "    ]\n",
    ")\n",
    "run(net,CrossEntropy, 1, 512, data)"
   ]
  },
  {
   "cell_type": "code",
   "execution_count": 4,
   "id": "af880cf8",
   "metadata": {},
   "outputs": [
    {
     "name": "stderr",
     "output_type": "stream",
     "text": [
      " 22%|██▏       | 178/800 [02:14<07:49,  1.32it/s, accuracy=97.02%, best_accuracy=97.06%, lr=0.0625, train_loss=0.024, valid_loss=0.114] "
     ]
    },
    {
     "name": "stdout",
     "output_type": "stream",
     "text": [
      "模型连续40次无提升，提前终止训练\n",
      "准确率97%所需迭代次数: 114\n",
      "最佳迭代次数: 138\n",
      "最佳准确率：97.06%\n",
      "损失函数=CrossEntropy 学习率=0.0625 批大小=512\n",
      "Net(\n",
      "  (0): Flatten()\n",
      "  (1): Mlp(in_features=784, out_features=256)\n",
      "  (2): Relu()\n",
      "  (3): Mlp(in_features=256, out_features=64)\n",
      "  (4): Relu()\n",
      "  (5): Mlp(in_features=64, out_features=16)\n",
      "  (6): Relu()\n",
      "  (7): Mlp(in_features=16, out_features=10)\n",
      "  (8): Softmax()\n",
      ")\n"
     ]
    },
    {
     "name": "stderr",
     "output_type": "stream",
     "text": [
      "\n"
     ]
    }
   ],
   "source": [
    "# 四层+Relu+CrossEntropy 512\n",
    "net = Net(\n",
    "    [\n",
    "    {\"module\": Flatten},\n",
    "    {\"module\": Mlp, \"param\": {\"in_features\": 784, \"out_features\": 256}},\n",
    "    {\"module\": Relu},\n",
    "    {\"module\": Mlp, \"param\": {\"in_features\": 256, \"out_features\": 64}},\n",
    "    {\"module\": Relu},\n",
    "    {\"module\": Mlp, \"param\": {\"in_features\": 64, \"out_features\": 16}},\n",
    "    {\"module\": Relu},\n",
    "    {\"module\": Mlp, \"param\": {\"in_features\": 16, \"out_features\": 10}},\n",
    "    {\"module\": Softmax},\n",
    "    ]\n",
    ")\n",
    "run(net,CrossEntropy, 1, 512, data)"
   ]
  },
  {
   "cell_type": "code",
   "execution_count": 5,
   "id": "f62afd34",
   "metadata": {},
   "outputs": [
    {
     "name": "stderr",
     "output_type": "stream",
     "text": [
      " 14%|█▍        | 116/800 [02:16<13:27,  1.18s/it, accuracy=97.32%, best_accuracy=97.35%, lr=0.0625, train_loss=0.00503, valid_loss=0.106]"
     ]
    },
    {
     "name": "stdout",
     "output_type": "stream",
     "text": [
      "模型连续40次无提升，提前终止训练\n",
      "准确率97%所需迭代次数: 27\n",
      "最佳迭代次数: 76\n",
      "最佳准确率：97.35%\n",
      "损失函数=CrossEntropy 学习率=0.0625 批大小=512\n",
      "Net(\n",
      "  (0): Flatten()\n",
      "  (1): Mlp(in_features=784, out_features=128)\n",
      "  (2): Gelu()\n",
      "  (3): Mlp(in_features=128, out_features=10)\n",
      "  (4): Softmax()\n",
      ")\n"
     ]
    },
    {
     "name": "stderr",
     "output_type": "stream",
     "text": [
      "\n"
     ]
    }
   ],
   "source": [
    "# 两层+Gelu+CrossEntropy 512\n",
    "net = Net(\n",
    "    [\n",
    "    {\"module\": Flatten},\n",
    "    {\"module\": Mlp, \"param\": {\"in_features\": 784, \"out_features\": 128}},\n",
    "    {\"module\": Gelu},\n",
    "    {\"module\": Mlp, \"param\": {\"in_features\": 128, \"out_features\": 10}},\n",
    "    {\"module\": Softmax},\n",
    "    ]\n",
    ")\n",
    "run(net,CrossEntropy, 1, 512, data)"
   ]
  },
  {
   "cell_type": "code",
   "execution_count": 6,
   "id": "3f43bbd8",
   "metadata": {},
   "outputs": [
    {
     "name": "stderr",
     "output_type": "stream",
     "text": [
      " 24%|██▎       | 188/800 [01:56<06:18,  1.62it/s, accuracy=93.05%, best_accuracy=93.14%, lr=0.125, train_loss=0.165, valid_loss=0.239]"
     ]
    },
    {
     "name": "stdout",
     "output_type": "stream",
     "text": [
      "模型连续40次无提升，提前终止训练\n",
      "准确率97%所需迭代次数: 0\n",
      "最佳迭代次数: 148\n",
      "最佳准确率：93.14%\n",
      "损失函数=CrossEntropy 学习率=0.125 批大小=512\n",
      "Net(\n",
      "  (0): Flatten()\n",
      "  (1): Mlp(in_features=784, out_features=128)\n",
      "  (2): Sigmoid()\n",
      "  (3): Mlp(in_features=128, out_features=10)\n",
      "  (4): Softmax()\n",
      ")\n"
     ]
    },
    {
     "name": "stderr",
     "output_type": "stream",
     "text": [
      "\n"
     ]
    }
   ],
   "source": [
    "# 两层+Sigmoid+CrossEntropy 512\n",
    "net = Net(\n",
    "    [\n",
    "    {\"module\": Flatten},\n",
    "    {\"module\": Mlp, \"param\": {\"in_features\": 784, \"out_features\": 128}},\n",
    "    {\"module\": Sigmoid},\n",
    "    {\"module\": Mlp, \"param\": {\"in_features\": 128, \"out_features\": 10}},\n",
    "    {\"module\": Softmax},\n",
    "    ]\n",
    ")\n",
    "run(net,CrossEntropy, 1, 512, data)"
   ]
  },
  {
   "cell_type": "code",
   "execution_count": 7,
   "id": "d8ef4a41",
   "metadata": {},
   "outputs": [
    {
     "name": "stderr",
     "output_type": "stream",
     "text": [
      " 20%|██        | 160/800 [01:09<04:36,  2.31it/s, accuracy=96.89%, best_accuracy=96.89%, lr=0.00781, train_loss=0.00131, valid_loss=0.00488]"
     ]
    },
    {
     "name": "stdout",
     "output_type": "stream",
     "text": [
      "模型连续40次无提升，提前终止训练\n",
      "准确率97%所需迭代次数: 0\n",
      "最佳迭代次数: 120\n",
      "最佳准确率：96.89%\n",
      "损失函数=Mse 学习率=0.0078125 批大小=512\n",
      "Net(\n",
      "  (0): Flatten()\n",
      "  (1): Mlp(in_features=784, out_features=128)\n",
      "  (2): Relu()\n",
      "  (3): Mlp(in_features=128, out_features=10)\n",
      "  (4): Softmax()\n",
      ")\n"
     ]
    },
    {
     "name": "stderr",
     "output_type": "stream",
     "text": [
      "\n"
     ]
    }
   ],
   "source": [
    "# 两层+Relu+MSE 512\n",
    "net = Net(\n",
    "    [\n",
    "    {\"module\": Flatten},\n",
    "    {\"module\": Mlp, \"param\": {\"in_features\": 784, \"out_features\": 128}},\n",
    "    {\"module\": Relu},\n",
    "    {\"module\": Mlp, \"param\": {\"in_features\": 128, \"out_features\": 10}},\n",
    "    {\"module\": Softmax},\n",
    "    ]\n",
    ")\n",
    "run(net,Mse, 1, 512, data)"
   ]
  },
  {
   "cell_type": "code",
   "execution_count": 8,
   "id": "bc682a26",
   "metadata": {},
   "outputs": [
    {
     "name": "stderr",
     "output_type": "stream",
     "text": [
      " 26%|██▌       | 208/800 [01:17<03:40,  2.68it/s, accuracy=97.12%, best_accuracy=97.15%, lr=0.0312, train_loss=0.0211, valid_loss=0.0992]"
     ]
    },
    {
     "name": "stdout",
     "output_type": "stream",
     "text": [
      "模型连续40次无提升，提前终止训练\n",
      "准确率97%所需迭代次数: 107\n",
      "最佳迭代次数: 168\n",
      "最佳准确率：97.15%\n",
      "损失函数=CrossEntropy 学习率=0.03125 批大小=1024\n",
      "Net(\n",
      "  (0): Flatten()\n",
      "  (1): Mlp(in_features=784, out_features=128)\n",
      "  (2): Relu()\n",
      "  (3): Mlp(in_features=128, out_features=10)\n",
      "  (4): Softmax()\n",
      ")\n"
     ]
    },
    {
     "name": "stderr",
     "output_type": "stream",
     "text": [
      "\n"
     ]
    }
   ],
   "source": [
    "# 两层+Relu+CrossEntropy 1024\n",
    "net = Net(\n",
    "    [\n",
    "    {\"module\": Flatten},\n",
    "    {\"module\": Mlp, \"param\": {\"in_features\": 784, \"out_features\": 128}},\n",
    "    {\"module\": Relu},\n",
    "    {\"module\": Mlp, \"param\": {\"in_features\": 128, \"out_features\": 10}},\n",
    "    {\"module\": Softmax},\n",
    "    ]\n",
    ")\n",
    "run(net,CrossEntropy, 1, 1024, data)"
   ]
  },
  {
   "cell_type": "code",
   "execution_count": 9,
   "id": "28465172",
   "metadata": {},
   "outputs": [
    {
     "name": "stderr",
     "output_type": "stream",
     "text": [
      " 11%|█         | 86/800 [00:39<05:28,  2.18it/s, accuracy=97.42%, best_accuracy=97.45%, lr=0.125, train_loss=0.000863, valid_loss=0.131]"
     ]
    },
    {
     "name": "stdout",
     "output_type": "stream",
     "text": [
      "模型连续40次无提升，提前终止训练\n",
      "准确率97%所需迭代次数: 14\n",
      "最佳迭代次数: 46\n",
      "最佳准确率：97.45%\n",
      "损失函数=CrossEntropy 学习率=0.125 批大小=256\n",
      "Net(\n",
      "  (0): Flatten()\n",
      "  (1): Mlp(in_features=784, out_features=128)\n",
      "  (2): Relu()\n",
      "  (3): Mlp(in_features=128, out_features=10)\n",
      "  (4): Softmax()\n",
      ")\n"
     ]
    },
    {
     "name": "stderr",
     "output_type": "stream",
     "text": [
      "\n"
     ]
    }
   ],
   "source": [
    "# 两层+Relu+CrossEntropy 256\n",
    "net = Net(\n",
    "    [\n",
    "    {\"module\": Flatten},\n",
    "    {\"module\": Mlp, \"param\": {\"in_features\": 784, \"out_features\": 128}},\n",
    "    {\"module\": Relu},\n",
    "    {\"module\": Mlp, \"param\": {\"in_features\": 128, \"out_features\": 10}},\n",
    "    {\"module\": Softmax},\n",
    "    ]\n",
    ")\n",
    "run(net,CrossEntropy, 1, 256, data)"
   ]
  },
  {
   "cell_type": "code",
   "execution_count": 10,
   "id": "74f4835f",
   "metadata": {},
   "outputs": [
    {
     "name": "stderr",
     "output_type": "stream",
     "text": [
      "  5%|▌         | 41/800 [01:00<18:39,  1.47s/it, accuracy=9.98%, best_accuracy=9.98%, lr=0.125, train_loss=25, valid_loss=24.9]"
     ]
    },
    {
     "name": "stdout",
     "output_type": "stream",
     "text": [
      "模型连续40次无提升，提前终止训练\n",
      "准确率97%所需迭代次数: 0\n",
      "最佳迭代次数: 1\n",
      "最佳准确率：9.98%\n",
      "损失函数=CrossEntropy 学习率=0.125 批大小=64\n",
      "Net(\n",
      "  (0): Flatten()\n",
      "  (1): Mlp(in_features=784, out_features=128)\n",
      "  (2): Relu()\n",
      "  (3): Mlp(in_features=128, out_features=10)\n",
      "  (4): Softmax()\n",
      ")\n"
     ]
    },
    {
     "name": "stderr",
     "output_type": "stream",
     "text": [
      "\n"
     ]
    }
   ],
   "source": [
    "# 两层+Relu+CrossEntropy 64\n",
    "net = Net(\n",
    "    [\n",
    "    {\"module\": Flatten},\n",
    "    {\"module\": Mlp, \"param\": {\"in_features\": 784, \"out_features\": 128}},\n",
    "    {\"module\": Relu},\n",
    "    {\"module\": Mlp, \"param\": {\"in_features\": 128, \"out_features\": 10}},\n",
    "    {\"module\": Softmax},\n",
    "    ]\n",
    ")\n",
    "run(net,CrossEntropy, 1, 64, data)"
   ]
  },
  {
   "cell_type": "code",
   "execution_count": 11,
   "id": "04fe5ce2",
   "metadata": {},
   "outputs": [
    {
     "name": "stderr",
     "output_type": "stream",
     "text": [
      " 40%|███▉      | 319/800 [02:03<03:05,  2.59it/s, accuracy=96.81%, best_accuracy=96.82%, lr=0.00156, train_loss=0.0423, valid_loss=0.106]"
     ]
    },
    {
     "name": "stdout",
     "output_type": "stream",
     "text": [
      "模型连续40次无提升，提前终止训练\n",
      "准确率97%所需迭代次数: 0\n",
      "最佳迭代次数: 279\n",
      "最佳准确率：96.82%\n",
      "损失函数=CrossEntropy 学习率=0.0015625 批大小=512\n",
      "Net(\n",
      "  (0): Flatten()\n",
      "  (1): Mlp(in_features=784, out_features=128)\n",
      "  (2): Relu()\n",
      "  (3): Mlp(in_features=128, out_features=10)\n",
      "  (4): Softmax()\n",
      ")\n"
     ]
    },
    {
     "name": "stderr",
     "output_type": "stream",
     "text": [
      "\n"
     ]
    }
   ],
   "source": [
    "# 两层+Relu+CrossEntropy 512 0.1\n",
    "net = Net(\n",
    "    [\n",
    "    {\"module\": Flatten},\n",
    "    {\"module\": Mlp, \"param\": {\"in_features\": 784, \"out_features\": 128}},\n",
    "    {\"module\": Relu},\n",
    "    {\"module\": Mlp, \"param\": {\"in_features\": 128, \"out_features\": 10}},\n",
    "    {\"module\": Softmax},\n",
    "    ]\n",
    ")\n",
    "run(net,CrossEntropy, 0.1, 512, data)"
   ]
  },
  {
   "cell_type": "code",
   "execution_count": 12,
   "id": "e912e808",
   "metadata": {},
   "outputs": [
    {
     "name": "stderr",
     "output_type": "stream",
     "text": [
      " 42%|████▏     | 336/800 [02:11<03:01,  2.55it/s, accuracy=96.47%, best_accuracy=96.53%, lr=0.00313, train_loss=0.0681, valid_loss=0.118]"
     ]
    },
    {
     "name": "stdout",
     "output_type": "stream",
     "text": [
      "模型连续40次无提升，提前终止训练\n",
      "准确率97%所需迭代次数: 0\n",
      "最佳迭代次数: 296\n",
      "最佳准确率：96.53%\n",
      "损失函数=CrossEntropy 学习率=0.003125 批大小=512\n",
      "Net(\n",
      "  (0): Flatten()\n",
      "  (1): Mlp(in_features=784, out_features=128)\n",
      "  (2): Relu()\n",
      "  (3): Mlp(in_features=128, out_features=10)\n",
      "  (4): Softmax()\n",
      ")\n"
     ]
    },
    {
     "name": "stderr",
     "output_type": "stream",
     "text": [
      "\n"
     ]
    }
   ],
   "source": [
    "# 两层+Relu+CrossEntropy 512 0.05\n",
    "net = Net(\n",
    "    [\n",
    "    {\"module\": Flatten},\n",
    "    {\"module\": Mlp, \"param\": {\"in_features\": 784, \"out_features\": 128}},\n",
    "    {\"module\": Relu},\n",
    "    {\"module\": Mlp, \"param\": {\"in_features\": 128, \"out_features\": 10}},\n",
    "    {\"module\": Softmax},\n",
    "    ]\n",
    ")\n",
    "run(net,CrossEntropy, 0.05, 512, data)"
   ]
  },
  {
   "cell_type": "code",
   "execution_count": 13,
   "id": "439599c1",
   "metadata": {},
   "outputs": [
    {
     "name": "stderr",
     "output_type": "stream",
     "text": [
      " 30%|███       | 240/800 [01:47<04:09,  2.24it/s, accuracy=97.42%, best_accuracy=97.46%, lr=0.00391, train_loss=0.0182, valid_loss=0.0917]"
     ]
    },
    {
     "name": "stdout",
     "output_type": "stream",
     "text": [
      "模型连续40次无提升，提前终止训练\n",
      "准确率97%所需迭代次数: 82\n",
      "最佳迭代次数: 200\n",
      "最佳准确率：97.46%\n",
      "损失函数=CrossEntropy 学习率=0.00390625 批大小=512\n",
      "Net(\n",
      "  (0): Flatten()\n",
      "  (1): Mlp(in_features=784, out_features=128)\n",
      "  (2): Relu()\n",
      "  (3): Dropout(p=0.1)\n",
      "  (4): Mlp(in_features=128, out_features=16)\n",
      "  (5): Relu()\n",
      "  (6): Dropout(p=0.1)\n",
      "  (7): Mlp(in_features=16, out_features=10)\n",
      "  (8): Softmax()\n",
      ")\n"
     ]
    },
    {
     "name": "stderr",
     "output_type": "stream",
     "text": [
      "\n"
     ]
    }
   ],
   "source": [
    "# 三层+Relu+CrossEntropy 512 1 Dropout=0.1\n",
    "net = Net(\n",
    "    [\n",
    "    {\"module\": Flatten},\n",
    "    {\"module\": Mlp, \"param\": {\"in_features\": 784, \"out_features\": 128}},\n",
    "    {\"module\": Relu},\n",
    "    {\"module\": Dropout, \"param\": {\"p\": 0.1}},\n",
    "    {\"module\": Mlp, \"param\": {\"in_features\": 128, \"out_features\": 16}},\n",
    "    {\"module\": Relu},\n",
    "    {\"module\": Dropout, \"param\": {\"p\": 0.1}},\n",
    "    {\"module\": Mlp, \"param\": {\"in_features\": 16, \"out_features\": 10}},\n",
    "    {\"module\": Softmax},\n",
    "    ]\n",
    ")\n",
    "run(net,CrossEntropy, 1, 512, data)"
   ]
  },
  {
   "cell_type": "code",
   "execution_count": 14,
   "id": "8d8b1aa8",
   "metadata": {},
   "outputs": [
    {
     "name": "stderr",
     "output_type": "stream",
     "text": [
      " 27%|██▋       | 219/800 [01:42<04:32,  2.13it/s, accuracy=97.45%, best_accuracy=97.47%, lr=0.0156, train_loss=0.0217, valid_loss=0.0973]"
     ]
    },
    {
     "name": "stdout",
     "output_type": "stream",
     "text": [
      "模型连续40次无提升，提前终止训练\n",
      "准确率97%所需迭代次数: 79\n",
      "最佳迭代次数: 179\n",
      "最佳准确率：97.47%\n",
      "损失函数=CrossEntropy 学习率=0.015625 批大小=512\n",
      "Net(\n",
      "  (0): Flatten()\n",
      "  (1): Mlp(in_features=784, out_features=128)\n",
      "  (2): Relu()\n",
      "  (3): Dropout(p=0.2)\n",
      "  (4): Mlp(in_features=128, out_features=16)\n",
      "  (5): Relu()\n",
      "  (6): Dropout(p=0.2)\n",
      "  (7): Mlp(in_features=16, out_features=10)\n",
      "  (8): Softmax()\n",
      ")\n"
     ]
    },
    {
     "name": "stderr",
     "output_type": "stream",
     "text": [
      "\n"
     ]
    }
   ],
   "source": [
    "# 三层+Relu+CrossEntropy 512 1 Dropout=0.2\n",
    "net = Net(\n",
    "    [\n",
    "    {\"module\": Flatten},\n",
    "    {\"module\": Mlp, \"param\": {\"in_features\": 784, \"out_features\": 128}},\n",
    "    {\"module\": Relu},\n",
    "    {\"module\": Dropout, \"param\": {\"p\": 0.2}},\n",
    "    {\"module\": Mlp, \"param\": {\"in_features\": 128, \"out_features\": 16}},\n",
    "    {\"module\": Relu},\n",
    "    {\"module\": Dropout, \"param\": {\"p\": 0.2}},\n",
    "    {\"module\": Mlp, \"param\": {\"in_features\": 16, \"out_features\": 10}},\n",
    "    {\"module\": Softmax},\n",
    "    ]\n",
    ")\n",
    "run(net,CrossEntropy, 1, 512, data)"
   ]
  },
  {
   "cell_type": "code",
   "execution_count": 15,
   "id": "16fd0abd",
   "metadata": {},
   "outputs": [
    {
     "name": "stderr",
     "output_type": "stream",
     "text": [
      " 27%|██▋       | 217/800 [01:37<04:22,  2.22it/s, accuracy=97.29%, best_accuracy=97.33%, lr=0.0625, train_loss=0.0285, valid_loss=0.109]"
     ]
    },
    {
     "name": "stdout",
     "output_type": "stream",
     "text": [
      "模型连续40次无提升，提前终止训练\n",
      "准确率97%所需迭代次数: 105\n",
      "最佳迭代次数: 177\n",
      "最佳准确率：97.33%\n",
      "损失函数=CrossEntropy 学习率=0.0625 批大小=512\n",
      "Net(\n",
      "  (0): Flatten()\n",
      "  (1): Mlp(in_features=784, out_features=128)\n",
      "  (2): Relu()\n",
      "  (3): Dropout(p=0.3)\n",
      "  (4): Mlp(in_features=128, out_features=16)\n",
      "  (5): Relu()\n",
      "  (6): Dropout(p=0.3)\n",
      "  (7): Mlp(in_features=16, out_features=10)\n",
      "  (8): Softmax()\n",
      ")\n"
     ]
    },
    {
     "name": "stderr",
     "output_type": "stream",
     "text": [
      "\n"
     ]
    }
   ],
   "source": [
    "# 三层+Relu+CrossEntropy 512 1 Dropout=0.3\n",
    "net = Net(\n",
    "    [\n",
    "    {\"module\": Flatten},\n",
    "    {\"module\": Mlp, \"param\": {\"in_features\": 784, \"out_features\": 128}},\n",
    "    {\"module\": Relu},\n",
    "    {\"module\": Dropout, \"param\": {\"p\": 0.3}},\n",
    "    {\"module\": Mlp, \"param\": {\"in_features\": 128, \"out_features\": 16}},\n",
    "    {\"module\": Relu},\n",
    "    {\"module\": Dropout, \"param\": {\"p\": 0.3}},\n",
    "    {\"module\": Mlp, \"param\": {\"in_features\": 16, \"out_features\": 10}},\n",
    "    {\"module\": Softmax},\n",
    "    ]\n",
    ")\n",
    "run(net,CrossEntropy, 1, 512, data)"
   ]
  },
  {
   "cell_type": "code",
   "execution_count": 16,
   "id": "131eed54",
   "metadata": {},
   "outputs": [
    {
     "name": "stderr",
     "output_type": "stream",
     "text": [
      " 23%|██▎       | 187/800 [01:24<04:36,  2.22it/s, accuracy=96.73%, best_accuracy=96.83%, lr=0.0312, train_loss=0.0571, valid_loss=0.128]"
     ]
    },
    {
     "name": "stdout",
     "output_type": "stream",
     "text": [
      "模型连续40次无提升，提前终止训练\n",
      "准确率97%所需迭代次数: 0\n",
      "最佳迭代次数: 147\n",
      "最佳准确率：96.83%\n",
      "损失函数=CrossEntropy 学习率=0.03125 批大小=512\n",
      "Net(\n",
      "  (0): Flatten()\n",
      "  (1): Mlp(in_features=784, out_features=128)\n",
      "  (2): Relu()\n",
      "  (3): Dropout(p=0.4)\n",
      "  (4): Mlp(in_features=128, out_features=16)\n",
      "  (5): Relu()\n",
      "  (6): Dropout(p=0.4)\n",
      "  (7): Mlp(in_features=16, out_features=10)\n",
      "  (8): Softmax()\n",
      ")\n"
     ]
    },
    {
     "name": "stderr",
     "output_type": "stream",
     "text": [
      "\n"
     ]
    }
   ],
   "source": [
    "# 三层+Relu+CrossEntropy 512 1 Dropout=0.4\n",
    "net = Net(\n",
    "    [\n",
    "    {\"module\": Flatten},\n",
    "    {\"module\": Mlp, \"param\": {\"in_features\": 784, \"out_features\": 128}},\n",
    "    {\"module\": Relu},\n",
    "    {\"module\": Dropout, \"param\": {\"p\": 0.4}},\n",
    "    {\"module\": Mlp, \"param\": {\"in_features\": 128, \"out_features\": 16}},\n",
    "    {\"module\": Relu},\n",
    "    {\"module\": Dropout, \"param\": {\"p\": 0.4}},\n",
    "    {\"module\": Mlp, \"param\": {\"in_features\": 16, \"out_features\": 10}},\n",
    "    {\"module\": Softmax},\n",
    "    ]\n",
    ")\n",
    "run(net,CrossEntropy, 1, 512, data)"
   ]
  }
 ],
 "metadata": {
  "kernelspec": {
   "display_name": "base",
   "language": "python",
   "name": "python3"
  },
  "language_info": {
   "codemirror_mode": {
    "name": "ipython",
    "version": 3
   },
   "file_extension": ".py",
   "mimetype": "text/x-python",
   "name": "python",
   "nbconvert_exporter": "python",
   "pygments_lexer": "ipython3",
   "version": "3.12.9"
  }
 },
 "nbformat": 4,
 "nbformat_minor": 5
}
