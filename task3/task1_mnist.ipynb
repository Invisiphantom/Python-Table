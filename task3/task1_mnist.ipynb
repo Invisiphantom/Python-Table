{
 "cells": [
  {
   "cell_type": "code",
   "execution_count": 1,
   "id": "8cf55835",
   "metadata": {},
   "outputs": [],
   "source": [
    "import os\n",
    "import sys\n",
    "sys.path.append(os.path.abspath('..'))\n",
    "from my.net import *\n",
    "from task1_mnist import train_valid_data, run\n",
    "data = train_valid_data()"
   ]
  },
  {
   "cell_type": "markdown",
   "id": "79d01406",
   "metadata": {},
   "source": [
    "#### Relu不同层数\n",
    "| 模型架构 | 激活函数 |   损失函数   | 批大小 | 初始学习率 | 准确率97%迭代次数 | 最佳迭代次数 | 最佳准确率 |\n",
    "| :------: | :------: | :----------: | :----: | :--------: | :---------------: | :----------: | :--------: |\n",
    "|   两层   |   Relu   |     MSE      |  512   |     1      |                   |     120      |   96.89%   |\n",
    "|   两层   |   Relu   | CrossEntropy |  512   |     1      |        28         |     109      |   97.38%   |\n",
    "|   三层   |   Relu   | CrossEntropy |  512   |     1      |        81         |     137      |   97.17%   |\n",
    "|   四层   |   Relu   | CrossEntropy |  512   |     1      |        114        |     138      |   97.06%   |"
   ]
  },
  {
   "cell_type": "code",
   "execution_count": 2,
   "id": "a2212144",
   "metadata": {},
   "outputs": [
    {
     "name": "stderr",
     "output_type": "stream",
     "text": [
      " 19%|█▊        | 149/800 [01:06<04:51,  2.23it/s, accuracy=97.36%, best_accuracy=97.38%, lr=0.0156, train_loss=0.00476, valid_loss=0.106]"
     ]
    },
    {
     "name": "stdout",
     "output_type": "stream",
     "text": [
      "模型连续40次无提升，提前终止训练\n",
      "准确率97%所需迭代次数: 28\n",
      "最佳迭代次数: 109\n",
      "最佳准确率：97.38%\n",
      "损失函数=CrossEntropy 学习率=0.015625 批大小=512\n",
      "Net(\n",
      "  (0): Flatten()\n",
      "  (1): Mlp(in_features=784, out_features=128)\n",
      "  (2): Relu()\n",
      "  (3): Mlp(in_features=128, out_features=10)\n",
      "  (4): Softmax()\n",
      ")\n"
     ]
    },
    {
     "name": "stderr",
     "output_type": "stream",
     "text": [
      "\n"
     ]
    }
   ],
   "source": [
    "# 两层+Relu+CrossEntropy 512\n",
    "net = Net(\n",
    "    [\n",
    "    {\"module\": Flatten},\n",
    "    {\"module\": Mlp, \"param\": {\"in_features\": 784, \"out_features\": 128}},\n",
    "    {\"module\": Relu},\n",
    "    {\"module\": Mlp, \"param\": {\"in_features\": 128, \"out_features\": 10}},\n",
    "    {\"module\": Softmax},\n",
    "    ]\n",
    ")\n",
    "run(net,CrossEntropy, 1, 512, data)"
   ]
  },
  {
   "cell_type": "code",
   "execution_count": 3,
   "id": "23a24ec4",
   "metadata": {},
   "outputs": [
    {
     "name": "stderr",
     "output_type": "stream",
     "text": [
      " 22%|██▏       | 177/800 [01:12<04:15,  2.44it/s, accuracy=97.12%, best_accuracy=97.17%, lr=0.0156, train_loss=0.0179, valid_loss=0.106]"
     ]
    },
    {
     "name": "stdout",
     "output_type": "stream",
     "text": [
      "模型连续40次无提升，提前终止训练\n",
      "准确率97%所需迭代次数: 81\n",
      "最佳迭代次数: 137\n",
      "最佳准确率：97.17%\n",
      "损失函数=CrossEntropy 学习率=0.015625 批大小=512\n",
      "Net(\n",
      "  (0): Flatten()\n",
      "  (1): Mlp(in_features=784, out_features=128)\n",
      "  (2): Relu()\n",
      "  (3): Mlp(in_features=128, out_features=16)\n",
      "  (4): Relu()\n",
      "  (5): Mlp(in_features=16, out_features=10)\n",
      "  (6): Softmax()\n",
      ")\n"
     ]
    },
    {
     "name": "stderr",
     "output_type": "stream",
     "text": [
      "\n"
     ]
    }
   ],
   "source": [
    "# 三层+Relu+CrossEntropy 512\n",
    "net = Net(\n",
    "    [\n",
    "    {\"module\": Flatten},\n",
    "    {\"module\": Mlp, \"param\": {\"in_features\": 784, \"out_features\": 128}},\n",
    "    {\"module\": Relu},\n",
    "    {\"module\": Mlp, \"param\": {\"in_features\": 128, \"out_features\": 16}},\n",
    "    {\"module\": Relu},\n",
    "    {\"module\": Mlp, \"param\": {\"in_features\": 16, \"out_features\": 10}},\n",
    "    {\"module\": Softmax},\n",
    "    ]\n",
    ")\n",
    "run(net,CrossEntropy, 1, 512, data)"
   ]
  },
  {
   "cell_type": "code",
   "execution_count": 4,
   "id": "af880cf8",
   "metadata": {},
   "outputs": [
    {
     "name": "stderr",
     "output_type": "stream",
     "text": [
      " 22%|██▏       | 178/800 [02:14<07:49,  1.32it/s, accuracy=97.02%, best_accuracy=97.06%, lr=0.0625, train_loss=0.024, valid_loss=0.114] "
     ]
    },
    {
     "name": "stdout",
     "output_type": "stream",
     "text": [
      "模型连续40次无提升，提前终止训练\n",
      "准确率97%所需迭代次数: 114\n",
      "最佳迭代次数: 138\n",
      "最佳准确率：97.06%\n",
      "损失函数=CrossEntropy 学习率=0.0625 批大小=512\n",
      "Net(\n",
      "  (0): Flatten()\n",
      "  (1): Mlp(in_features=784, out_features=256)\n",
      "  (2): Relu()\n",
      "  (3): Mlp(in_features=256, out_features=64)\n",
      "  (4): Relu()\n",
      "  (5): Mlp(in_features=64, out_features=16)\n",
      "  (6): Relu()\n",
      "  (7): Mlp(in_features=16, out_features=10)\n",
      "  (8): Softmax()\n",
      ")\n"
     ]
    },
    {
     "name": "stderr",
     "output_type": "stream",
     "text": [
      "\n"
     ]
    }
   ],
   "source": [
    "# 四层+Relu+CrossEntropy 512\n",
    "net = Net(\n",
    "    [\n",
    "    {\"module\": Flatten},\n",
    "    {\"module\": Mlp, \"param\": {\"in_features\": 784, \"out_features\": 256}},\n",
    "    {\"module\": Relu},\n",
    "    {\"module\": Mlp, \"param\": {\"in_features\": 256, \"out_features\": 64}},\n",
    "    {\"module\": Relu},\n",
    "    {\"module\": Mlp, \"param\": {\"in_features\": 64, \"out_features\": 16}},\n",
    "    {\"module\": Relu},\n",
    "    {\"module\": Mlp, \"param\": {\"in_features\": 16, \"out_features\": 10}},\n",
    "    {\"module\": Softmax},\n",
    "    ]\n",
    ")\n",
    "run(net,CrossEntropy, 1, 512, data)"
   ]
  },
  {
   "cell_type": "markdown",
   "id": "12d8ffd6",
   "metadata": {},
   "source": [
    "#### Gelu不同层数\n",
    "| 模型架构 | 激活函数 |   损失函数   | 批大小 | 初始学习率 | 准确率97%迭代次数 | 最佳迭代次数 | 最佳准确率 |\n",
    "| :------: | :------: | :----------: | :----: | :--------: | :---------------: | :----------: | :--------: |\n",
    "|   两层   |   Gelu   | CrossEntropy |  512   |     1      |        27         |      76      |   97.35%   |\n",
    "|   三层   |   Gelu   | CrossEntropy |  512   |     1      |        81         |     131      |   97.29%   |\n",
    "|   四层   |   Gelu   | CrossEntropy |  512   |     1      |        115        |     122      |   97.04%   |"
   ]
  },
  {
   "cell_type": "code",
   "execution_count": 5,
   "id": "f62afd34",
   "metadata": {},
   "outputs": [
    {
     "name": "stderr",
     "output_type": "stream",
     "text": [
      " 14%|█▍        | 116/800 [02:16<13:27,  1.18s/it, accuracy=97.32%, best_accuracy=97.35%, lr=0.0625, train_loss=0.00503, valid_loss=0.106]"
     ]
    },
    {
     "name": "stdout",
     "output_type": "stream",
     "text": [
      "模型连续40次无提升，提前终止训练\n",
      "准确率97%所需迭代次数: 27\n",
      "最佳迭代次数: 76\n",
      "最佳准确率：97.35%\n",
      "损失函数=CrossEntropy 学习率=0.0625 批大小=512\n",
      "Net(\n",
      "  (0): Flatten()\n",
      "  (1): Mlp(in_features=784, out_features=128)\n",
      "  (2): Gelu()\n",
      "  (3): Mlp(in_features=128, out_features=10)\n",
      "  (4): Softmax()\n",
      ")\n"
     ]
    },
    {
     "name": "stderr",
     "output_type": "stream",
     "text": [
      "\n"
     ]
    }
   ],
   "source": [
    "# 两层+Gelu+CrossEntropy 512\n",
    "net = Net(\n",
    "    [\n",
    "    {\"module\": Flatten},\n",
    "    {\"module\": Mlp, \"param\": {\"in_features\": 784, \"out_features\": 128}},\n",
    "    {\"module\": Gelu},\n",
    "    {\"module\": Mlp, \"param\": {\"in_features\": 128, \"out_features\": 10}},\n",
    "    {\"module\": Softmax},\n",
    "    ]\n",
    ")\n",
    "run(net,CrossEntropy, 1, 512, data)"
   ]
  },
  {
   "cell_type": "code",
   "execution_count": 3,
   "id": "48e8221f",
   "metadata": {},
   "outputs": [
    {
     "name": "stderr",
     "output_type": "stream",
     "text": [
      " 21%|██▏       | 171/800 [03:45<13:48,  1.32s/it, accuracy=97.24%, best_accuracy=97.29%, lr=0.125, train_loss=0.00831, valid_loss=0.112]"
     ]
    },
    {
     "name": "stdout",
     "output_type": "stream",
     "text": [
      "模型连续40次无提升，提前终止训练\n",
      "准确率97%所需迭代次数: 81\n",
      "最佳迭代次数: 131\n",
      "最佳准确率：97.29%\n",
      "损失函数=CrossEntropy 学习率=0.125 批大小=512\n",
      "Net(\n",
      "  (0): Flatten()\n",
      "  (1): Mlp(in_features=784, out_features=128)\n",
      "  (2): Gelu()\n",
      "  (3): Mlp(in_features=128, out_features=16)\n",
      "  (4): Gelu()\n",
      "  (5): Mlp(in_features=16, out_features=10)\n",
      "  (6): Softmax()\n",
      ")\n"
     ]
    },
    {
     "name": "stderr",
     "output_type": "stream",
     "text": [
      "\n"
     ]
    }
   ],
   "source": [
    "# 三层+Gelu+CrossEntropy 512\n",
    "net = Net(\n",
    "    [\n",
    "    {\"module\": Flatten},\n",
    "    {\"module\": Mlp, \"param\": {\"in_features\": 784, \"out_features\": 128}},\n",
    "    {\"module\": Gelu},\n",
    "    {\"module\": Mlp, \"param\": {\"in_features\": 128, \"out_features\": 16}},\n",
    "    {\"module\": Gelu},\n",
    "    {\"module\": Mlp, \"param\": {\"in_features\": 16, \"out_features\": 10}},\n",
    "    {\"module\": Softmax},\n",
    "    ]\n",
    ")\n",
    "run(net,CrossEntropy, 1, 512, data)"
   ]
  },
  {
   "cell_type": "code",
   "execution_count": 4,
   "id": "ce6fce8b",
   "metadata": {},
   "outputs": [
    {
     "name": "stderr",
     "output_type": "stream",
     "text": [
      " 20%|██        | 162/800 [08:13<32:23,  3.05s/it, accuracy=96.96%, best_accuracy=97.04%, lr=0.125, train_loss=0.0179, valid_loss=0.117]"
     ]
    },
    {
     "name": "stdout",
     "output_type": "stream",
     "text": [
      "模型连续40次无提升，提前终止训练\n",
      "准确率97%所需迭代次数: 115\n",
      "最佳迭代次数: 122\n",
      "最佳准确率：97.04%\n",
      "损失函数=CrossEntropy 学习率=0.125 批大小=512\n",
      "Net(\n",
      "  (0): Flatten()\n",
      "  (1): Mlp(in_features=784, out_features=256)\n",
      "  (2): Gelu()\n",
      "  (3): Mlp(in_features=256, out_features=64)\n",
      "  (4): Gelu()\n",
      "  (5): Mlp(in_features=64, out_features=16)\n",
      "  (6): Gelu()\n",
      "  (7): Mlp(in_features=16, out_features=10)\n",
      "  (8): Softmax()\n",
      ")\n"
     ]
    },
    {
     "name": "stderr",
     "output_type": "stream",
     "text": [
      "\n"
     ]
    }
   ],
   "source": [
    "# 四层+Gelu+CrossEntropy 512\n",
    "net = Net(\n",
    "    [\n",
    "    {\"module\": Flatten},\n",
    "    {\"module\": Mlp, \"param\": {\"in_features\": 784, \"out_features\": 256}},\n",
    "    {\"module\": Gelu},\n",
    "    {\"module\": Mlp, \"param\": {\"in_features\": 256, \"out_features\": 64}},\n",
    "    {\"module\": Gelu},\n",
    "    {\"module\": Mlp, \"param\": {\"in_features\": 64, \"out_features\": 16}},\n",
    "    {\"module\": Gelu},\n",
    "    {\"module\": Mlp, \"param\": {\"in_features\": 16, \"out_features\": 10}},\n",
    "    {\"module\": Softmax},\n",
    "    ]\n",
    ")\n",
    "run(net,CrossEntropy, 1, 512, data)"
   ]
  },
  {
   "cell_type": "markdown",
   "id": "e6726618",
   "metadata": {},
   "source": [
    "| 模型架构 | 激活函数 |   损失函数   | 批大小 | 初始学习率 | 最佳迭代次数 | 最佳准确率 |\n",
    "| :------: | :------: | :----------: | :----: | :--------: | :----------: | :--------: |\n",
    "|   两层   | Sigmoid  | CrossEntropy |  512   |     20     |     109      |   96.38%   |\n",
    "|   三层   | Sigmoid  | CrossEntropy |  512   |     20     |     126      |   96.13%   |"
   ]
  },
  {
   "cell_type": "code",
   "execution_count": 4,
   "id": "3f43bbd8",
   "metadata": {},
   "outputs": [
    {
     "name": "stderr",
     "output_type": "stream",
     "text": [
      " 19%|█▊        | 149/800 [01:28<06:28,  1.68it/s, accuracy=96.17%, best_accuracy=96.38%, lr=2.5, train_loss=0.0209, valid_loss=0.124]"
     ]
    },
    {
     "name": "stdout",
     "output_type": "stream",
     "text": [
      "模型连续40次无提升，提前终止训练\n",
      "准确率97%所需迭代次数: 0\n",
      "最佳迭代次数: 109\n",
      "最佳准确率：96.38%\n",
      "损失函数=CrossEntropy 学习率=2.5 批大小=512\n",
      "Net(\n",
      "  (0): Flatten()\n",
      "  (1): Mlp(in_features=784, out_features=128)\n",
      "  (2): Sigmoid()\n",
      "  (3): Mlp(in_features=128, out_features=10)\n",
      "  (4): Softmax()\n",
      ")\n"
     ]
    },
    {
     "name": "stderr",
     "output_type": "stream",
     "text": [
      "\n"
     ]
    }
   ],
   "source": [
    "# 两层+Sigmoid+CrossEntropy 512\n",
    "net = Net(\n",
    "    [\n",
    "    {\"module\": Flatten},\n",
    "    {\"module\": Mlp, \"param\": {\"in_features\": 784, \"out_features\": 128}},\n",
    "    {\"module\": Sigmoid},\n",
    "    {\"module\": Mlp, \"param\": {\"in_features\": 128, \"out_features\": 10}},\n",
    "    {\"module\": Softmax},\n",
    "    ]\n",
    ")\n",
    "run(net,CrossEntropy, 20, 512, data)"
   ]
  },
  {
   "cell_type": "code",
   "execution_count": 6,
   "id": "f2ae8165",
   "metadata": {},
   "outputs": [
    {
     "name": "stderr",
     "output_type": "stream",
     "text": [
      " 21%|██        | 166/800 [01:44<06:39,  1.59it/s, accuracy=95.97%, best_accuracy=96.13%, lr=1.25, train_loss=0.0414, valid_loss=0.147]"
     ]
    },
    {
     "name": "stdout",
     "output_type": "stream",
     "text": [
      "模型连续40次无提升，提前终止训练\n",
      "准确率97%所需迭代次数: 0\n",
      "最佳迭代次数: 126\n",
      "最佳准确率：96.13%\n",
      "损失函数=CrossEntropy 学习率=1.25 批大小=512\n",
      "Net(\n",
      "  (0): Flatten()\n",
      "  (1): Mlp(in_features=784, out_features=128)\n",
      "  (2): Sigmoid()\n",
      "  (3): Mlp(in_features=128, out_features=16)\n",
      "  (4): Sigmoid()\n",
      "  (5): Mlp(in_features=16, out_features=10)\n",
      "  (6): Softmax()\n",
      ")\n"
     ]
    },
    {
     "name": "stderr",
     "output_type": "stream",
     "text": [
      "\n"
     ]
    }
   ],
   "source": [
    "# 三层+Sigmoid+CrossEntropy 512\n",
    "net = Net(\n",
    "    [\n",
    "    {\"module\": Flatten},\n",
    "    {\"module\": Mlp, \"param\": {\"in_features\": 784, \"out_features\": 128}},\n",
    "    {\"module\": Sigmoid},\n",
    "    {\"module\": Mlp, \"param\": {\"in_features\": 128, \"out_features\": 16}},\n",
    "    {\"module\": Sigmoid},\n",
    "    {\"module\": Mlp, \"param\": {\"in_features\": 16, \"out_features\": 10}},\n",
    "    {\"module\": Softmax},\n",
    "    ]\n",
    ")\n",
    "run(net,CrossEntropy, 20, 512, data)"
   ]
  },
  {
   "cell_type": "markdown",
   "id": "2aaa2e7c",
   "metadata": {},
   "source": [
    "| 模型架构 | 激活函数 |   损失函数   | 批大小 | 初始学习率 | 准确率97%迭代次数 | 最佳迭代次数 | 最佳准确率 |\n",
    "| :------: | :------: | :----------: | :----: | :--------: | :---------------: | :----------: | :--------: |\n",
    "|   两层   |   Relu   | CrossEntropy |  1024  |     1      |        107        |     168      |   97.15%   |\n",
    "|   两层   |   Relu   | CrossEntropy |  512   |     1      |        28         |     109      |   97.38%   |\n",
    "|   两层   |   Relu   | CrossEntropy |  256   |     1      |        14         |      46      |   97.45%   |\n",
    "|   两层   |   Relu   | CrossEntropy |  128   |    0.1     |        16         |     106      |   97.51%   |\n",
    "|   两层   |   Relu   | CrossEntropy |   64   |    0.1     |         5         |      33      |   97.83%   |"
   ]
  },
  {
   "cell_type": "code",
   "execution_count": 7,
   "id": "d8ef4a41",
   "metadata": {},
   "outputs": [
    {
     "name": "stderr",
     "output_type": "stream",
     "text": [
      " 20%|██        | 160/800 [01:09<04:36,  2.31it/s, accuracy=96.89%, best_accuracy=96.89%, lr=0.00781, train_loss=0.00131, valid_loss=0.00488]"
     ]
    },
    {
     "name": "stdout",
     "output_type": "stream",
     "text": [
      "模型连续40次无提升，提前终止训练\n",
      "准确率97%所需迭代次数: 0\n",
      "最佳迭代次数: 120\n",
      "最佳准确率：96.89%\n",
      "损失函数=Mse 学习率=0.0078125 批大小=512\n",
      "Net(\n",
      "  (0): Flatten()\n",
      "  (1): Mlp(in_features=784, out_features=128)\n",
      "  (2): Relu()\n",
      "  (3): Mlp(in_features=128, out_features=10)\n",
      "  (4): Softmax()\n",
      ")\n"
     ]
    },
    {
     "name": "stderr",
     "output_type": "stream",
     "text": [
      "\n"
     ]
    }
   ],
   "source": [
    "# 两层+Relu+MSE 512\n",
    "net = Net(\n",
    "    [\n",
    "    {\"module\": Flatten},\n",
    "    {\"module\": Mlp, \"param\": {\"in_features\": 784, \"out_features\": 128}},\n",
    "    {\"module\": Relu},\n",
    "    {\"module\": Mlp, \"param\": {\"in_features\": 128, \"out_features\": 10}},\n",
    "    {\"module\": Softmax},\n",
    "    ]\n",
    ")\n",
    "run(net,Mse, 1, 512, data)"
   ]
  },
  {
   "cell_type": "code",
   "execution_count": 8,
   "id": "bc682a26",
   "metadata": {},
   "outputs": [
    {
     "name": "stderr",
     "output_type": "stream",
     "text": [
      " 26%|██▌       | 208/800 [01:17<03:40,  2.68it/s, accuracy=97.12%, best_accuracy=97.15%, lr=0.0312, train_loss=0.0211, valid_loss=0.0992]"
     ]
    },
    {
     "name": "stdout",
     "output_type": "stream",
     "text": [
      "模型连续40次无提升，提前终止训练\n",
      "准确率97%所需迭代次数: 107\n",
      "最佳迭代次数: 168\n",
      "最佳准确率：97.15%\n",
      "损失函数=CrossEntropy 学习率=0.03125 批大小=1024\n",
      "Net(\n",
      "  (0): Flatten()\n",
      "  (1): Mlp(in_features=784, out_features=128)\n",
      "  (2): Relu()\n",
      "  (3): Mlp(in_features=128, out_features=10)\n",
      "  (4): Softmax()\n",
      ")\n"
     ]
    },
    {
     "name": "stderr",
     "output_type": "stream",
     "text": [
      "\n"
     ]
    }
   ],
   "source": [
    "# 两层+Relu+CrossEntropy 1024\n",
    "net = Net(\n",
    "    [\n",
    "    {\"module\": Flatten},\n",
    "    {\"module\": Mlp, \"param\": {\"in_features\": 784, \"out_features\": 128}},\n",
    "    {\"module\": Relu},\n",
    "    {\"module\": Mlp, \"param\": {\"in_features\": 128, \"out_features\": 10}},\n",
    "    {\"module\": Softmax},\n",
    "    ]\n",
    ")\n",
    "run(net,CrossEntropy, 1, 1024, data)"
   ]
  },
  {
   "cell_type": "code",
   "execution_count": 9,
   "id": "28465172",
   "metadata": {},
   "outputs": [
    {
     "name": "stderr",
     "output_type": "stream",
     "text": [
      " 11%|█         | 86/800 [00:39<05:28,  2.18it/s, accuracy=97.42%, best_accuracy=97.45%, lr=0.125, train_loss=0.000863, valid_loss=0.131]"
     ]
    },
    {
     "name": "stdout",
     "output_type": "stream",
     "text": [
      "模型连续40次无提升，提前终止训练\n",
      "准确率97%所需迭代次数: 14\n",
      "最佳迭代次数: 46\n",
      "最佳准确率：97.45%\n",
      "损失函数=CrossEntropy 学习率=0.125 批大小=256\n",
      "Net(\n",
      "  (0): Flatten()\n",
      "  (1): Mlp(in_features=784, out_features=128)\n",
      "  (2): Relu()\n",
      "  (3): Mlp(in_features=128, out_features=10)\n",
      "  (4): Softmax()\n",
      ")\n"
     ]
    },
    {
     "name": "stderr",
     "output_type": "stream",
     "text": [
      "\n"
     ]
    }
   ],
   "source": [
    "# 两层+Relu+CrossEntropy 256\n",
    "net = Net(\n",
    "    [\n",
    "    {\"module\": Flatten},\n",
    "    {\"module\": Mlp, \"param\": {\"in_features\": 784, \"out_features\": 128}},\n",
    "    {\"module\": Relu},\n",
    "    {\"module\": Mlp, \"param\": {\"in_features\": 128, \"out_features\": 10}},\n",
    "    {\"module\": Softmax},\n",
    "    ]\n",
    ")\n",
    "run(net,CrossEntropy, 1, 256, data)"
   ]
  },
  {
   "cell_type": "code",
   "execution_count": 16,
   "id": "71f5a1cc",
   "metadata": {},
   "outputs": [
    {
     "name": "stderr",
     "output_type": "stream",
     "text": [
      " 18%|█▊        | 146/800 [01:40<07:30,  1.45it/s, accuracy=97.49%, best_accuracy=97.51%, lr=0.00625, train_loss=0.00171, valid_loss=0.111]"
     ]
    },
    {
     "name": "stdout",
     "output_type": "stream",
     "text": [
      "模型连续40次无提升，提前终止训练\n",
      "准确率97%所需迭代次数: 16\n",
      "最佳迭代次数: 106\n",
      "最佳准确率：97.51%\n",
      "损失函数=CrossEntropy 学习率=0.00625 批大小=128\n",
      "Net(\n",
      "  (0): Flatten()\n",
      "  (1): Mlp(in_features=784, out_features=128)\n",
      "  (2): Relu()\n",
      "  (3): Mlp(in_features=128, out_features=10)\n",
      "  (4): Softmax()\n",
      ")\n"
     ]
    },
    {
     "name": "stderr",
     "output_type": "stream",
     "text": [
      "\n"
     ]
    }
   ],
   "source": [
    "# 两层+Relu+CrossEntropy 128\n",
    "net = Net(\n",
    "    [\n",
    "    {\"module\": Flatten},\n",
    "    {\"module\": Mlp, \"param\": {\"in_features\": 784, \"out_features\": 128}},\n",
    "    {\"module\": Relu},\n",
    "    {\"module\": Mlp, \"param\": {\"in_features\": 128, \"out_features\": 10}},\n",
    "    {\"module\": Softmax},\n",
    "    ]\n",
    ")\n",
    "run(net,CrossEntropy, 0.1, 128, data)"
   ]
  },
  {
   "cell_type": "code",
   "execution_count": 14,
   "id": "74f4835f",
   "metadata": {},
   "outputs": [
    {
     "name": "stderr",
     "output_type": "stream",
     "text": [
      "  9%|▉         | 73/800 [01:41<16:50,  1.39s/it, accuracy=97.78%, best_accuracy=97.83%, lr=0.0125, train_loss=0.000488, valid_loss=0.116]"
     ]
    },
    {
     "name": "stdout",
     "output_type": "stream",
     "text": [
      "模型连续40次无提升，提前终止训练\n",
      "准确率97%所需迭代次数: 5\n",
      "最佳迭代次数: 33\n",
      "最佳准确率：97.83%\n",
      "损失函数=CrossEntropy 学习率=0.0125 批大小=64\n",
      "Net(\n",
      "  (0): Flatten()\n",
      "  (1): Mlp(in_features=784, out_features=128)\n",
      "  (2): Relu()\n",
      "  (3): Mlp(in_features=128, out_features=10)\n",
      "  (4): Softmax()\n",
      ")\n"
     ]
    },
    {
     "name": "stderr",
     "output_type": "stream",
     "text": [
      "\n"
     ]
    }
   ],
   "source": [
    "# 两层+Relu+CrossEntropy 64\n",
    "net = Net(\n",
    "    [\n",
    "    {\"module\": Flatten},\n",
    "    {\"module\": Mlp, \"param\": {\"in_features\": 784, \"out_features\": 128}},\n",
    "    {\"module\": Relu},\n",
    "    {\"module\": Mlp, \"param\": {\"in_features\": 128, \"out_features\": 10}},\n",
    "    {\"module\": Softmax},\n",
    "    ]\n",
    ")\n",
    "run(net,CrossEntropy, 0.1, 64, data)"
   ]
  },
  {
   "cell_type": "markdown",
   "id": "ff9ec463",
   "metadata": {},
   "source": [
    "| 模型架构 | 激活函数 |   损失函数   | 批大小 | 初始学习率 | 最佳迭代次数 | 最佳准确率 |\n",
    "| :------: | :------: | :----------: | :----: | :--------: | :----------: | :--------: |\n",
    "|   两层   |   Relu   | CrossEntropy |  512   |     1      |     109      |   97.38%   |\n",
    "|   两层   |   Relu   | CrossEntropy |  512   |    0.1     |     279      |   96.82%   |\n",
    "|   两层   |   Relu   | CrossEntropy |  512   |    0.05    |     296      |   96.53%   |"
   ]
  },
  {
   "cell_type": "code",
   "execution_count": null,
   "id": "04fe5ce2",
   "metadata": {},
   "outputs": [
    {
     "name": "stderr",
     "output_type": "stream",
     "text": [
      " 40%|███▉      | 319/800 [02:03<03:05,  2.59it/s, accuracy=96.81%, best_accuracy=96.82%, lr=0.00156, train_loss=0.0423, valid_loss=0.106]"
     ]
    },
    {
     "name": "stdout",
     "output_type": "stream",
     "text": [
      "模型连续40次无提升，提前终止训练\n",
      "准确率97%所需迭代次数: 0\n",
      "最佳迭代次数: 279\n",
      "最佳准确率：96.82%\n",
      "损失函数=CrossEntropy 学习率=0.0015625 批大小=512\n",
      "Net(\n",
      "  (0): Flatten()\n",
      "  (1): Mlp(in_features=784, out_features=128)\n",
      "  (2): Relu()\n",
      "  (3): Mlp(in_features=128, out_features=10)\n",
      "  (4): Softmax()\n",
      ")\n"
     ]
    },
    {
     "name": "stderr",
     "output_type": "stream",
     "text": [
      "\n"
     ]
    }
   ],
   "source": [
    "# 两层+Relu+CrossEntropy 0.1\n",
    "net = Net(\n",
    "    [\n",
    "    {\"module\": Flatten},\n",
    "    {\"module\": Mlp, \"param\": {\"in_features\": 784, \"out_features\": 128}},\n",
    "    {\"module\": Relu},\n",
    "    {\"module\": Mlp, \"param\": {\"in_features\": 128, \"out_features\": 10}},\n",
    "    {\"module\": Softmax},\n",
    "    ]\n",
    ")\n",
    "run(net,CrossEntropy, 0.1, 512, data)"
   ]
  },
  {
   "cell_type": "code",
   "execution_count": null,
   "id": "e912e808",
   "metadata": {},
   "outputs": [
    {
     "name": "stderr",
     "output_type": "stream",
     "text": [
      " 42%|████▏     | 336/800 [02:11<03:01,  2.55it/s, accuracy=96.47%, best_accuracy=96.53%, lr=0.00313, train_loss=0.0681, valid_loss=0.118]"
     ]
    },
    {
     "name": "stdout",
     "output_type": "stream",
     "text": [
      "模型连续40次无提升，提前终止训练\n",
      "准确率97%所需迭代次数: 0\n",
      "最佳迭代次数: 296\n",
      "最佳准确率：96.53%\n",
      "损失函数=CrossEntropy 学习率=0.003125 批大小=512\n",
      "Net(\n",
      "  (0): Flatten()\n",
      "  (1): Mlp(in_features=784, out_features=128)\n",
      "  (2): Relu()\n",
      "  (3): Mlp(in_features=128, out_features=10)\n",
      "  (4): Softmax()\n",
      ")\n"
     ]
    },
    {
     "name": "stderr",
     "output_type": "stream",
     "text": [
      "\n"
     ]
    }
   ],
   "source": [
    "# 两层+Relu+CrossEntropy 0.05\n",
    "net = Net(\n",
    "    [\n",
    "    {\"module\": Flatten},\n",
    "    {\"module\": Mlp, \"param\": {\"in_features\": 784, \"out_features\": 128}},\n",
    "    {\"module\": Relu},\n",
    "    {\"module\": Mlp, \"param\": {\"in_features\": 128, \"out_features\": 10}},\n",
    "    {\"module\": Softmax},\n",
    "    ]\n",
    ")\n",
    "run(net,CrossEntropy, 0.05, 512, data)"
   ]
  },
  {
   "cell_type": "markdown",
   "id": "3f5b5a46",
   "metadata": {},
   "source": [
    "| 模型架构 | 消融率 | 激活函数 |   损失函数   | 批大小 | 初始学习率 | 准确率97%迭代次数 | 最佳迭代次数 | 最佳准确率 |\n",
    "| :------: | :----: | :------: | :----------: | :----: | :--------: | :---------------: | :----------: | :--------: |\n",
    "|   三层   |   0    |   Relu   | CrossEntropy |  512   |     1      |        81         |     137      |   97.17%   |\n",
    "|   三层   |  0.1   |   Relu   | CrossEntropy |  512   |     1      |        81         |     200      |   97.46%   |\n",
    "|   三层   |  0.15  |   Relu   | CrossEntropy |  512   |     1      |        80         |     172      |   97.52%   |\n",
    "|   三层   |  0.2   |   Relu   | CrossEntropy |  512   |     1      |        79         |     179      |   97.47%   |\n",
    "|   三层   |  0.3   |   Relu   | CrossEntropy |  512   |     1      |        105        |     177      |   97.33%   |\n",
    "|   三层   |  0.4   |   Relu   | CrossEntropy |  512   |     1      |                   |     147      |   96.83%   |\n"
   ]
  },
  {
   "cell_type": "code",
   "execution_count": null,
   "id": "439599c1",
   "metadata": {},
   "outputs": [
    {
     "name": "stderr",
     "output_type": "stream",
     "text": [
      " 30%|███       | 240/800 [01:47<04:09,  2.24it/s, accuracy=97.42%, best_accuracy=97.46%, lr=0.00391, train_loss=0.0182, valid_loss=0.0917]"
     ]
    },
    {
     "name": "stdout",
     "output_type": "stream",
     "text": [
      "模型连续40次无提升，提前终止训练\n",
      "准确率97%所需迭代次数: 82\n",
      "最佳迭代次数: 200\n",
      "最佳准确率：97.46%\n",
      "损失函数=CrossEntropy 学习率=0.00390625 批大小=512\n",
      "Net(\n",
      "  (0): Flatten()\n",
      "  (1): Mlp(in_features=784, out_features=128)\n",
      "  (2): Relu()\n",
      "  (3): Dropout(p=0.1)\n",
      "  (4): Mlp(in_features=128, out_features=16)\n",
      "  (5): Relu()\n",
      "  (6): Dropout(p=0.1)\n",
      "  (7): Mlp(in_features=16, out_features=10)\n",
      "  (8): Softmax()\n",
      ")\n"
     ]
    },
    {
     "name": "stderr",
     "output_type": "stream",
     "text": [
      "\n"
     ]
    }
   ],
   "source": [
    "# 三层+Relu+CrossEntropy Dropout=0.1\n",
    "net = Net(\n",
    "    [\n",
    "    {\"module\": Flatten},\n",
    "    {\"module\": Mlp, \"param\": {\"in_features\": 784, \"out_features\": 128}},\n",
    "    {\"module\": Relu},\n",
    "    {\"module\": Dropout, \"param\": {\"p\": 0.1}},\n",
    "    {\"module\": Mlp, \"param\": {\"in_features\": 128, \"out_features\": 16}},\n",
    "    {\"module\": Relu},\n",
    "    {\"module\": Dropout, \"param\": {\"p\": 0.1}},\n",
    "    {\"module\": Mlp, \"param\": {\"in_features\": 16, \"out_features\": 10}},\n",
    "    {\"module\": Softmax},\n",
    "    ]\n",
    ")\n",
    "run(net,CrossEntropy, 1, 512, data)"
   ]
  },
  {
   "cell_type": "code",
   "execution_count": 2,
   "id": "a80a3969",
   "metadata": {},
   "outputs": [
    {
     "name": "stderr",
     "output_type": "stream",
     "text": [
      " 26%|██▋       | 212/800 [02:31<06:59,  1.40it/s, accuracy=97.48%, best_accuracy=97.52%, lr=0.0312, train_loss=0.0177, valid_loss=0.093] "
     ]
    },
    {
     "name": "stdout",
     "output_type": "stream",
     "text": [
      "模型连续40次无提升，提前终止训练\n",
      "准确率97%所需迭代次数: 80\n",
      "最佳迭代次数: 172\n",
      "最佳准确率：97.52%\n",
      "损失函数=CrossEntropy 学习率=0.03125 批大小=512\n",
      "Net(\n",
      "  (0): Flatten()\n",
      "  (1): Mlp(in_features=784, out_features=128)\n",
      "  (2): Relu()\n",
      "  (3): Dropout(p=0.15)\n",
      "  (4): Mlp(in_features=128, out_features=16)\n",
      "  (5): Relu()\n",
      "  (6): Dropout(p=0.15)\n",
      "  (7): Mlp(in_features=16, out_features=10)\n",
      "  (8): Softmax()\n",
      ")\n"
     ]
    },
    {
     "name": "stderr",
     "output_type": "stream",
     "text": [
      "\n"
     ]
    }
   ],
   "source": [
    "# 三层+Relu+CrossEntropy Dropout=0.15\n",
    "net = Net(\n",
    "    [\n",
    "    {\"module\": Flatten},\n",
    "    {\"module\": Mlp, \"param\": {\"in_features\": 784, \"out_features\": 128}},\n",
    "    {\"module\": Relu},\n",
    "    {\"module\": Dropout, \"param\": {\"p\": 0.15}},\n",
    "    {\"module\": Mlp, \"param\": {\"in_features\": 128, \"out_features\": 16}},\n",
    "    {\"module\": Relu},\n",
    "    {\"module\": Dropout, \"param\": {\"p\": 0.15}},\n",
    "    {\"module\": Mlp, \"param\": {\"in_features\": 16, \"out_features\": 10}},\n",
    "    {\"module\": Softmax},\n",
    "    ]\n",
    ")\n",
    "run(net,CrossEntropy, 1, 512, data)"
   ]
  },
  {
   "cell_type": "code",
   "execution_count": null,
   "id": "8d8b1aa8",
   "metadata": {},
   "outputs": [
    {
     "name": "stderr",
     "output_type": "stream",
     "text": [
      " 27%|██▋       | 219/800 [02:05<05:34,  1.74it/s, accuracy=97.45%, best_accuracy=97.47%, lr=0.0156, train_loss=0.0217, valid_loss=0.0973]"
     ]
    },
    {
     "name": "stdout",
     "output_type": "stream",
     "text": [
      "模型连续40次无提升，提前终止训练\n",
      "准确率97%所需迭代次数: 79\n",
      "最佳迭代次数: 179\n",
      "最佳准确率：97.47%\n",
      "损失函数=CrossEntropy 学习率=0.015625 批大小=512\n",
      "Net(\n",
      "  (0): Flatten()\n",
      "  (1): Mlp(in_features=784, out_features=128)\n",
      "  (2): Relu()\n",
      "  (3): Dropout(p=0.2)\n",
      "  (4): Mlp(in_features=128, out_features=16)\n",
      "  (5): Relu()\n",
      "  (6): Dropout(p=0.2)\n",
      "  (7): Mlp(in_features=16, out_features=10)\n",
      "  (8): Softmax()\n",
      ")\n"
     ]
    },
    {
     "name": "stderr",
     "output_type": "stream",
     "text": [
      "\n"
     ]
    }
   ],
   "source": [
    "# 三层+Relu+CrossEntropy Dropout=0.2\n",
    "net = Net(\n",
    "    [\n",
    "    {\"module\": Flatten},\n",
    "    {\"module\": Mlp, \"param\": {\"in_features\": 784, \"out_features\": 128}},\n",
    "    {\"module\": Relu},\n",
    "    {\"module\": Dropout, \"param\": {\"p\": 0.2}},\n",
    "    {\"module\": Mlp, \"param\": {\"in_features\": 128, \"out_features\": 16}},\n",
    "    {\"module\": Relu},\n",
    "    {\"module\": Dropout, \"param\": {\"p\": 0.2}},\n",
    "    {\"module\": Mlp, \"param\": {\"in_features\": 16, \"out_features\": 10}},\n",
    "    {\"module\": Softmax},\n",
    "    ]\n",
    ")\n",
    "run(net,CrossEntropy, 1, 512, data)"
   ]
  },
  {
   "cell_type": "code",
   "execution_count": null,
   "id": "16fd0abd",
   "metadata": {},
   "outputs": [
    {
     "name": "stderr",
     "output_type": "stream",
     "text": [
      " 27%|██▋       | 217/800 [01:37<04:22,  2.22it/s, accuracy=97.29%, best_accuracy=97.33%, lr=0.0625, train_loss=0.0285, valid_loss=0.109]"
     ]
    },
    {
     "name": "stdout",
     "output_type": "stream",
     "text": [
      "模型连续40次无提升，提前终止训练\n",
      "准确率97%所需迭代次数: 105\n",
      "最佳迭代次数: 177\n",
      "最佳准确率：97.33%\n",
      "损失函数=CrossEntropy 学习率=0.0625 批大小=512\n",
      "Net(\n",
      "  (0): Flatten()\n",
      "  (1): Mlp(in_features=784, out_features=128)\n",
      "  (2): Relu()\n",
      "  (3): Dropout(p=0.3)\n",
      "  (4): Mlp(in_features=128, out_features=16)\n",
      "  (5): Relu()\n",
      "  (6): Dropout(p=0.3)\n",
      "  (7): Mlp(in_features=16, out_features=10)\n",
      "  (8): Softmax()\n",
      ")\n"
     ]
    },
    {
     "name": "stderr",
     "output_type": "stream",
     "text": [
      "\n"
     ]
    }
   ],
   "source": [
    "# 三层+Relu+CrossEntropy Dropout=0.3\n",
    "net = Net(\n",
    "    [\n",
    "    {\"module\": Flatten},\n",
    "    {\"module\": Mlp, \"param\": {\"in_features\": 784, \"out_features\": 128}},\n",
    "    {\"module\": Relu},\n",
    "    {\"module\": Dropout, \"param\": {\"p\": 0.3}},\n",
    "    {\"module\": Mlp, \"param\": {\"in_features\": 128, \"out_features\": 16}},\n",
    "    {\"module\": Relu},\n",
    "    {\"module\": Dropout, \"param\": {\"p\": 0.3}},\n",
    "    {\"module\": Mlp, \"param\": {\"in_features\": 16, \"out_features\": 10}},\n",
    "    {\"module\": Softmax},\n",
    "    ]\n",
    ")\n",
    "run(net,CrossEntropy, 1, 512, data)"
   ]
  },
  {
   "cell_type": "code",
   "execution_count": null,
   "id": "131eed54",
   "metadata": {},
   "outputs": [
    {
     "name": "stderr",
     "output_type": "stream",
     "text": [
      " 23%|██▎       | 187/800 [01:24<04:36,  2.22it/s, accuracy=96.73%, best_accuracy=96.83%, lr=0.0312, train_loss=0.0571, valid_loss=0.128]"
     ]
    },
    {
     "name": "stdout",
     "output_type": "stream",
     "text": [
      "模型连续40次无提升，提前终止训练\n",
      "准确率97%所需迭代次数: 0\n",
      "最佳迭代次数: 147\n",
      "最佳准确率：96.83%\n",
      "损失函数=CrossEntropy 学习率=0.03125 批大小=512\n",
      "Net(\n",
      "  (0): Flatten()\n",
      "  (1): Mlp(in_features=784, out_features=128)\n",
      "  (2): Relu()\n",
      "  (3): Dropout(p=0.4)\n",
      "  (4): Mlp(in_features=128, out_features=16)\n",
      "  (5): Relu()\n",
      "  (6): Dropout(p=0.4)\n",
      "  (7): Mlp(in_features=16, out_features=10)\n",
      "  (8): Softmax()\n",
      ")\n"
     ]
    },
    {
     "name": "stderr",
     "output_type": "stream",
     "text": [
      "\n"
     ]
    }
   ],
   "source": [
    "# 三层+Relu+CrossEntropy Dropout=0.4\n",
    "net = Net(\n",
    "    [\n",
    "    {\"module\": Flatten},\n",
    "    {\"module\": Mlp, \"param\": {\"in_features\": 784, \"out_features\": 128}},\n",
    "    {\"module\": Relu},\n",
    "    {\"module\": Dropout, \"param\": {\"p\": 0.4}},\n",
    "    {\"module\": Mlp, \"param\": {\"in_features\": 128, \"out_features\": 16}},\n",
    "    {\"module\": Relu},\n",
    "    {\"module\": Dropout, \"param\": {\"p\": 0.4}},\n",
    "    {\"module\": Mlp, \"param\": {\"in_features\": 16, \"out_features\": 10}},\n",
    "    {\"module\": Softmax},\n",
    "    ]\n",
    ")\n",
    "run(net,CrossEntropy, 1, 512, data)"
   ]
  }
 ],
 "metadata": {
  "kernelspec": {
   "display_name": "base",
   "language": "python",
   "name": "python3"
  },
  "language_info": {
   "codemirror_mode": {
    "name": "ipython",
    "version": 3
   },
   "file_extension": ".py",
   "mimetype": "text/x-python",
   "name": "python",
   "nbconvert_exporter": "python",
   "pygments_lexer": "ipython3",
   "version": "3.12.9"
  }
 },
 "nbformat": 4,
 "nbformat_minor": 5
}
