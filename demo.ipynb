{
 "cells": [
  {
   "cell_type": "code",
   "execution_count": 19,
   "metadata": {},
   "outputs": [
    {
     "ename": "RuntimeError",
     "evalue": "boundary mode not supported",
     "output_type": "error",
     "traceback": [
      "\u001b[31m---------------------------------------------------------------------------\u001b[39m",
      "\u001b[31mRuntimeError\u001b[39m                              Traceback (most recent call last)",
      "\u001b[36mCell\u001b[39m\u001b[36m \u001b[39m\u001b[32mIn[19]\u001b[39m\u001b[32m, line 47\u001b[39m\n\u001b[32m     44\u001b[39m b = np.random.randn(\u001b[32m2\u001b[39m)\n\u001b[32m     46\u001b[39m \u001b[38;5;66;03m# 执行卷积\u001b[39;00m\n\u001b[32m---> \u001b[39m\u001b[32m47\u001b[39m Y = \u001b[43mcnn_convolve\u001b[49m\u001b[43m(\u001b[49m\u001b[43mX\u001b[49m\u001b[43m,\u001b[49m\u001b[43m \u001b[49m\u001b[43mW\u001b[49m\u001b[43m,\u001b[49m\u001b[43m \u001b[49m\u001b[43mb\u001b[49m\u001b[43m)\u001b[49m\n\u001b[32m     49\u001b[39m \u001b[38;5;28mprint\u001b[39m(\u001b[33m\"\u001b[39m\u001b[33mInput shape:\u001b[39m\u001b[33m\"\u001b[39m, X.shape)  \u001b[38;5;66;03m# (1, 2, 5, 5)\u001b[39;00m\n\u001b[32m     50\u001b[39m \u001b[38;5;28mprint\u001b[39m(\u001b[33m\"\u001b[39m\u001b[33mKernel shape:\u001b[39m\u001b[33m\"\u001b[39m, W.shape)  \u001b[38;5;66;03m# (2, 2, 3, 3)\u001b[39;00m\n",
      "\u001b[36mCell\u001b[39m\u001b[36m \u001b[39m\u001b[32mIn[19]\u001b[39m\u001b[32m, line 30\u001b[39m, in \u001b[36mcnn_convolve\u001b[39m\u001b[34m(X, W, b)\u001b[39m\n\u001b[32m     26\u001b[39m     \u001b[38;5;28;01mfor\u001b[39;00m oc \u001b[38;5;129;01min\u001b[39;00m \u001b[38;5;28mrange\u001b[39m(out_channels):\n\u001b[32m     27\u001b[39m         \u001b[38;5;66;03m# 对每个输入通道的卷积结果求和\u001b[39;00m\n\u001b[32m     28\u001b[39m         \u001b[38;5;28;01mfor\u001b[39;00m ic \u001b[38;5;129;01min\u001b[39;00m \u001b[38;5;28mrange\u001b[39m(in_channels):\n\u001b[32m     29\u001b[39m             \u001b[38;5;66;03m# 使用 convolve 进行二维卷积，mode='valid' 表示无填充\u001b[39;00m\n\u001b[32m---> \u001b[39m\u001b[32m30\u001b[39m             Y[b, oc] += \u001b[43mconvolve\u001b[49m\u001b[43m(\u001b[49m\u001b[43mX\u001b[49m\u001b[43m[\u001b[49m\u001b[43mb\u001b[49m\u001b[43m,\u001b[49m\u001b[43m \u001b[49m\u001b[43mic\u001b[49m\u001b[43m]\u001b[49m\u001b[43m,\u001b[49m\u001b[43m \u001b[49m\u001b[43mW\u001b[49m\u001b[43m[\u001b[49m\u001b[43moc\u001b[49m\u001b[43m,\u001b[49m\u001b[43m \u001b[49m\u001b[43mic\u001b[49m\u001b[43m]\u001b[49m\u001b[43m,\u001b[49m\u001b[43m \u001b[49m\u001b[43mmode\u001b[49m\u001b[43m=\u001b[49m\u001b[33;43m'\u001b[39;49m\u001b[33;43mvalid\u001b[39;49m\u001b[33;43m'\u001b[39;49m\u001b[43m)\u001b[49m\n\u001b[32m     32\u001b[39m \u001b[38;5;66;03m# 添加偏置（如果有）\u001b[39;00m\n\u001b[32m     33\u001b[39m \u001b[38;5;28;01mif\u001b[39;00m b \u001b[38;5;129;01mis\u001b[39;00m \u001b[38;5;129;01mnot\u001b[39;00m \u001b[38;5;28;01mNone\u001b[39;00m:\n",
      "\u001b[36mFile \u001b[39m\u001b[32m~/miniconda3/lib/python3.12/site-packages/scipy/ndimage/_filters.py:1064\u001b[39m, in \u001b[36mconvolve\u001b[39m\u001b[34m(input, weights, output, mode, cval, origin, axes)\u001b[39m\n\u001b[32m    949\u001b[39m \u001b[38;5;129m@_ni_docstrings\u001b[39m.docfiller\n\u001b[32m    950\u001b[39m \u001b[38;5;28;01mdef\u001b[39;00m \u001b[34mconvolve\u001b[39m(\u001b[38;5;28minput\u001b[39m, weights, output=\u001b[38;5;28;01mNone\u001b[39;00m, mode=\u001b[33m'\u001b[39m\u001b[33mreflect\u001b[39m\u001b[33m'\u001b[39m, cval=\u001b[32m0.0\u001b[39m,\n\u001b[32m    951\u001b[39m              origin=\u001b[32m0\u001b[39m, *, axes=\u001b[38;5;28;01mNone\u001b[39;00m):\n\u001b[32m    952\u001b[39m \u001b[38;5;250m    \u001b[39m\u001b[33;03m\"\"\"\u001b[39;00m\n\u001b[32m    953\u001b[39m \u001b[33;03m    Multidimensional convolution.\u001b[39;00m\n\u001b[32m    954\u001b[39m \n\u001b[32m   (...)\u001b[39m\u001b[32m   1062\u001b[39m \n\u001b[32m   1063\u001b[39m \u001b[33;03m    \"\"\"\u001b[39;00m\n\u001b[32m-> \u001b[39m\u001b[32m1064\u001b[39m     \u001b[38;5;28;01mreturn\u001b[39;00m \u001b[43m_correlate_or_convolve\u001b[49m\u001b[43m(\u001b[49m\u001b[38;5;28;43minput\u001b[39;49m\u001b[43m,\u001b[49m\u001b[43m \u001b[49m\u001b[43mweights\u001b[49m\u001b[43m,\u001b[49m\u001b[43m \u001b[49m\u001b[43moutput\u001b[49m\u001b[43m,\u001b[49m\u001b[43m \u001b[49m\u001b[43mmode\u001b[49m\u001b[43m,\u001b[49m\u001b[43m \u001b[49m\u001b[43mcval\u001b[49m\u001b[43m,\u001b[49m\n\u001b[32m   1065\u001b[39m \u001b[43m                                  \u001b[49m\u001b[43morigin\u001b[49m\u001b[43m,\u001b[49m\u001b[43m \u001b[49m\u001b[38;5;28;43;01mTrue\u001b[39;49;00m\u001b[43m,\u001b[49m\u001b[43m \u001b[49m\u001b[43maxes\u001b[49m\u001b[43m)\u001b[49m\n",
      "\u001b[36mFile \u001b[39m\u001b[32m~/miniconda3/lib/python3.12/site-packages/scipy/ndimage/_filters.py:871\u001b[39m, in \u001b[36m_correlate_or_convolve\u001b[39m\u001b[34m(input, weights, output, mode, cval, origin, convolution, axes)\u001b[39m\n\u001b[32m    869\u001b[39m \u001b[38;5;28;01mif\u001b[39;00m \u001b[38;5;129;01mnot\u001b[39;00m \u001b[38;5;28misinstance\u001b[39m(mode, \u001b[38;5;28mstr\u001b[39m) \u001b[38;5;129;01mand\u001b[39;00m \u001b[38;5;28misinstance\u001b[39m(mode, Iterable):\n\u001b[32m    870\u001b[39m     \u001b[38;5;28;01mraise\u001b[39;00m \u001b[38;5;167;01mRuntimeError\u001b[39;00m(\u001b[33m\"\u001b[39m\u001b[33mA sequence of modes is not supported\u001b[39m\u001b[33m\"\u001b[39m)\n\u001b[32m--> \u001b[39m\u001b[32m871\u001b[39m mode = \u001b[43m_ni_support\u001b[49m\u001b[43m.\u001b[49m\u001b[43m_extend_mode_to_code\u001b[49m\u001b[43m(\u001b[49m\u001b[43mmode\u001b[49m\u001b[43m)\u001b[49m\n\u001b[32m    872\u001b[39m _nd_image.correlate(\u001b[38;5;28minput\u001b[39m, weights, output, mode, cval, origins)\n\u001b[32m    873\u001b[39m \u001b[38;5;28;01mif\u001b[39;00m temp_needed:\n",
      "\u001b[36mFile \u001b[39m\u001b[32m~/miniconda3/lib/python3.12/site-packages/scipy/ndimage/_ni_support.py:59\u001b[39m, in \u001b[36m_extend_mode_to_code\u001b[39m\u001b[34m(mode, is_filter)\u001b[39m\n\u001b[32m     57\u001b[39m     \u001b[38;5;28;01mreturn\u001b[39;00m \u001b[32m6\u001b[39m\n\u001b[32m     58\u001b[39m \u001b[38;5;28;01melse\u001b[39;00m:\n\u001b[32m---> \u001b[39m\u001b[32m59\u001b[39m     \u001b[38;5;28;01mraise\u001b[39;00m \u001b[38;5;167;01mRuntimeError\u001b[39;00m(\u001b[33m'\u001b[39m\u001b[33mboundary mode not supported\u001b[39m\u001b[33m'\u001b[39m)\n",
      "\u001b[31mRuntimeError\u001b[39m: boundary mode not supported"
     ]
    }
   ],
   "source": [
    "import numpy as np\n",
    "from scipy.ndimage import convolve\n",
    "\n",
    "def cnn_convolve(X, W, b=None):\n",
    "    \"\"\"\n",
    "    实现 CNN 的无填充卷积。\n",
    "    参数：\n",
    "        X: 输入张量，形状 [batch_size, in_channels, height, width]\n",
    "        W: 卷积核，形状 [out_channels, in_channels, kernel_height, kernel_width]\n",
    "        b: 偏置，形状 [out_channels]，可选\n",
    "    返回：\n",
    "        Y: 输出张量，形状 [batch_size, out_channels, out_height, out_width]\n",
    "    \"\"\"\n",
    "    batch_size, in_channels, h, w = X.shape\n",
    "    out_channels, _, kh, kw = W.shape\n",
    "    \n",
    "    # 无填充时的输出尺寸\n",
    "    out_h = h - kh + 1\n",
    "    out_w = w - kw + 1\n",
    "    \n",
    "    # 初始化输出\n",
    "    Y = np.zeros((batch_size, out_channels, out_h, out_w))\n",
    "    \n",
    "    # 对每个样本和输出通道进行卷积\n",
    "    for b in range(batch_size):\n",
    "        for oc in range(out_channels):\n",
    "            # 对每个输入通道的卷积结果求和\n",
    "            for ic in range(in_channels):\n",
    "                # 使用 convolve 进行二维卷积，mode='valid' 表示无填充\n",
    "                Y[b, oc] += convolve(X[b, ic], W[oc, ic], mode='valid')\n",
    "    \n",
    "    # 添加偏置（如果有）\n",
    "    if b is not None:\n",
    "        Y += b[np.newaxis, :, np.newaxis, np.newaxis]  # 广播偏置到输出形状\n",
    "    \n",
    "    return Y\n",
    "\n",
    "# 测试代码\n",
    "# 输入数据：1个样本，2个通道，5x5大小\n",
    "X = np.random.randn(1, 2, 5, 5)\n",
    "# 卷积核：2个输出通道，2个输入通道，3x3大小\n",
    "W = np.random.randn(2, 2, 3, 3)\n",
    "# 偏置：2个输出通道\n",
    "b = np.random.randn(2)\n",
    "\n",
    "# 执行卷积\n",
    "Y = cnn_convolve(X, W, b)\n",
    "\n",
    "print(\"Input shape:\", X.shape)  # (1, 2, 5, 5)\n",
    "print(\"Kernel shape:\", W.shape)  # (2, 2, 3, 3)\n",
    "print(\"Output shape:\", Y.shape)  # (1, 2, 3, 3) 无填充，尺寸缩小"
   ]
  },
  {
   "cell_type": "code",
   "execution_count": null,
   "metadata": {},
   "outputs": [],
   "source": []
  }
 ],
 "metadata": {
  "language_info": {
   "name": "python"
  }
 },
 "nbformat": 4,
 "nbformat_minor": 2
}
