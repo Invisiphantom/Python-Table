{
 "cells": [
  {
   "cell_type": "code",
   "execution_count": 1,
   "metadata": {},
   "outputs": [],
   "source": [
    "import pandas as pd\n",
    "SALE2VOL = 2"
   ]
  },
  {
   "cell_type": "code",
   "execution_count": 2,
   "metadata": {},
   "outputs": [
    {
     "name": "stdout",
     "output_type": "stream",
     "text": [
      "land_name2type \t A1: 平旱地 \tA2: 平旱地\n",
      "land_name2area \t A1: 80.0 \tA2: 55.0\n"
     ]
    }
   ],
   "source": [
    "land_df = pd.read_excel(\"耕地性质.xlsx\")\n",
    "land_name2type = dict(zip(land_df[\"地块名称\"], land_df[\"地块类型\"]))  # 地块名称 -> 地块类型\n",
    "land_name2area = dict(zip(land_df[\"地块名称\"], land_df[\"地块面积/亩\"]))  # 地块名称 -> 地块面积\n",
    "print(\"land_name2type \\t A1:\", land_name2type[\"A1\"], \"\\tA2:\", land_name2type[\"A2\"])\n",
    "print(\"land_name2area \\t A1:\", land_name2area[\"A1\"], \"\\tA2:\", land_name2area[\"A2\"])"
   ]
  },
  {
   "cell_type": "code",
   "execution_count": 3,
   "metadata": {},
   "outputs": [
    {
     "name": "stdout",
     "output_type": "stream",
     "text": [
      "crop_name2type \t 黄豆: 粮食（豆类） \t茄子: 蔬菜\n",
      "crop_name2land \t 黄豆: 平旱地 梯田 山坡地 \t茄子: 水浇地-第一季 普通大棚-第一季 智慧大棚-第一季+第二季\n"
     ]
    }
   ],
   "source": [
    "crop_df = pd.read_excel(\"农作物性质.xlsx\")\n",
    "crop_name2type = dict(zip(crop_df[\"作物名称\"], crop_df[\"作物类型\"])) # 作物名称 -> 作物类型\n",
    "crop_name2land = dict(zip(crop_df[\"作物名称\"], crop_df[\"种植耕地\"])) # 作物名称 -> 地块类型\n",
    "print(\"crop_name2type \\t 黄豆:\", crop_name2type[\"黄豆\"], \"\\t茄子:\", crop_name2type[\"茄子\"])\n",
    "print(\"crop_name2land \\t 黄豆:\", crop_name2land[\"黄豆\"], \"\\t茄子:\", crop_name2land[\"茄子\"])"
   ]
  },
  {
   "cell_type": "code",
   "execution_count": 4,
   "metadata": {},
   "outputs": [],
   "source": [
    "# 计算每种作物的 预需求量\n",
    "plant_2023 = pd.read_excel(\"2023年种植数据.xlsx\")\n",
    "crop_name2volume = dict()  # 作物名称 -> 预需求量\n",
    "for i in range(plant_2023.shape[0]):\n",
    "    crop_name = plant_2023.loc[i, \"作物名称\"].strip()\n",
    "    crop_sale = plant_2023.loc[i, \"种植面积/亩\"]\n",
    "    if crop_name not in crop_name2volume:\n",
    "        crop_name2volume[crop_name] = 0\n",
    "    crop_name2volume[crop_name] += round(crop_sale * SALE2VOL, 8)\n",
    "\n",
    "del plant_2023, crop_name, crop_sale"
   ]
  },
  {
   "cell_type": "code",
   "execution_count": 5,
   "metadata": {},
   "outputs": [],
   "source": [
    "# 计算每种作物 在每种地块类型的 每亩利润\n",
    "price_2023 = pd.read_excel(\"2023年销售数据.xlsx\")\n",
    "for i in range(len(price_2023)):\n",
    "    price_range = price_2023.loc[i, \"销售单价/(元/斤)\"]\n",
    "    price_low = price_range.split(\"-\")[0]\n",
    "    price_high = price_range.split(\"-\")[1]\n",
    "    price_avg = (float(price_low) + float(price_high)) / 2\n",
    "    price_2023.loc[i, \"均值单价\"] = round(price_avg, 4)\n",
    "    price_2023.loc[i, \"均值利润\"] = price_2023.loc[i, \"亩产量/斤\"] * price_avg - price_2023.loc[i, \"种植成本/(元/亩)\"]\n",
    "    price_2023.loc[i, \"均值利润\"] = price_2023.loc[i, \"均值利润\"].round(4)\n",
    "\n",
    "del price_range, price_low, price_high, price_avg"
   ]
  },
  {
   "cell_type": "code",
   "execution_count": 6,
   "metadata": {},
   "outputs": [],
   "source": [
    "# 建立数据库 <作物名称, 地块类型, 季次, 每亩利润>\n",
    "import sqlite3\n",
    "conn = sqlite3.connect(\"price.db\")\n",
    "price_db = conn.cursor()\n",
    "price_db.execute(\"DROP TABLE IF EXISTS price\")\n",
    "price_db.execute(\"CREATE TABLE IF NOT EXISTS price (crop_name TEXT, land_type TEXT, season TEXT, profit REAL)\")\n",
    "for i in range(len(price_2023)):\n",
    "    crop_name = price_2023.loc[i, \"作物名称\"].strip()\n",
    "    land_type = price_2023.loc[i, \"地块类型\"].strip()\n",
    "    season = price_2023.loc[i, \"种植季次\"].strip()\n",
    "    profit = price_2023.loc[i, \"均值利润\"]\n",
    "    price_db.execute(\"INSERT INTO price VALUES (?, ?, ?, ?)\", (crop_name, land_type, season, profit))\n",
    "    if land_type == \"普通大棚\":\n",
    "        price_db.execute(\"INSERT INTO price VALUES (?, ?, ?, ?)\", (crop_name, \"智慧大棚\", season, profit))\n",
    "\n",
    "conn.commit()\n",
    "del price_2023, crop_name, land_type, season, profit"
   ]
  },
  {
   "cell_type": "markdown",
   "metadata": {},
   "source": [
    "['季次', '地块名', '黄豆', '黑豆', '红豆', '绿豆', '爬豆', '小麦', '玉米', '谷子', '高粱', '黍子',\n",
    "       '荞麦', '南瓜', '红薯', '莜麦', '大麦', '水稻', '豇豆', '刀豆', '芸豆', '土豆', '西红柿', '茄子',\n",
    "       '菠菜 ', '青椒', '菜花', '包菜', '油麦菜', '小青菜', '黄瓜', '生菜 ', '辣椒', '空心菜', '黄心菜',\n",
    "       '芹菜', '大白菜', '白萝卜', '红萝卜', '榆黄菇', '香菇', '白灵菇', '羊肚菌']"
   ]
  },
  {
   "cell_type": "code",
   "execution_count": null,
   "metadata": {},
   "outputs": [],
   "source": []
  },
  {
   "cell_type": "code",
   "execution_count": 7,
   "metadata": {},
   "outputs": [
    {
     "name": "stderr",
     "output_type": "stream",
     "text": [
      "/home/ethan/miniconda3/lib/python3.12/site-packages/openpyxl/worksheet/header_footer.py:48: UserWarning: Cannot parse header or footer so it will be ignored\n",
      "  warn(\"\"\"Cannot parse header or footer so it will be ignored\"\"\")\n"
     ]
    }
   ],
   "source": [
    "# 填写结果表\n",
    "result_df = pd.read_excel(\"result1.xlsx\")\n",
    "T_crop_name2volume = crop_name2volume.copy()\n",
    "T_land_name2area = land_name2area.copy()\n",
    "\n",
    "Season_Change_Time = 0\n",
    "for i in range(len(result_df)):\n",
    "    if result_df.loc[i, \"季次\"].strip() == \"第二季\":\n",
    "        Season_Change_Time = i\n",
    "        break\n",
    "\n",
    "for i in range(len(result_df)):\n",
    "    if i == Season_Change_Time: # 换季 预需求量更新\n",
    "        T_crop_name2volume = crop_name2volume.copy()\n",
    "        T_land_name2area = land_name2area.copy()\n",
    "    land_name = result_df.loc[i, \"地块名\"].strip()\n",
    "    land_type = land_name2type[land_name]\n",
    "    season = result_df.loc[i, \"季次\"].strip()\n",
    "    result_df.loc[i, \"总利润\"] = 0\n",
    "    price_db.execute(\"SELECT * FROM price WHERE land_type = ? AND season = ? ORDER BY profit DESC\", (land_type, season))\n",
    "    crops = price_db.fetchall()\n",
    "    for crop in crops:\n",
    "        crop_name = crop[0]\n",
    "        if T_crop_name2volume[crop_name] <= 1e-8:\n",
    "            continue # 如果该作物的预需求量已经满足，则跳过\n",
    "        avib_area = min(T_crop_name2volume[crop_name], T_land_name2area[land_name])\n",
    "        avib_area = round(avib_area, 8)\n",
    "        result_df.loc[i, crop_name] = avib_area\n",
    "        T_crop_name2volume[crop_name] -= avib_area\n",
    "        T_land_name2area[land_name] -= avib_area\n",
    "        result_df.loc[i, \"总利润\"] += avib_area * crop[3]\n",
    "        T_crop_name2volume[crop_name] = round(T_crop_name2volume[crop_name], 8)\n",
    "        T_land_name2area[land_name] = round(T_land_name2area[land_name], 8)\n",
    "        if T_land_name2area[land_name] <= 1e-8:\n",
    "            break # 如果该地块的面积已经分配完毕，则跳出\n",
    "        \n",
    "del Season_Change_Time, land_name, land_type, season, crop_name, avib_area, crops, crop\n"
   ]
  },
  {
   "cell_type": "code",
   "execution_count": null,
   "metadata": {},
   "outputs": [],
   "source": []
  },
  {
   "cell_type": "code",
   "execution_count": 8,
   "metadata": {},
   "outputs": [],
   "source": [
    "result_df.to_excel(\"result1_ans.xlsx\", index=False)"
   ]
  }
 ],
 "metadata": {
  "kernelspec": {
   "display_name": "base",
   "language": "python",
   "name": "python3"
  },
  "language_info": {
   "codemirror_mode": {
    "name": "ipython",
    "version": 3
   },
   "file_extension": ".py",
   "mimetype": "text/x-python",
   "name": "python",
   "nbconvert_exporter": "python",
   "pygments_lexer": "ipython3",
   "version": "3.12.4"
  }
 },
 "nbformat": 4,
 "nbformat_minor": 2
}
