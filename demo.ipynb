{
 "cells": [
  {
   "cell_type": "code",
   "execution_count": 4,
   "metadata": {},
   "outputs": [],
   "source": [
    "import numpy as np\n",
    "from numpy.lib.stride_tricks import sliding_window_view\n",
    "\n",
    "class MaxPool2d:\n",
    "    def __init__(self, pool_height, pool_width):\n",
    "        self.pool_height = pool_height\n",
    "        self.pool_width = pool_width\n",
    "        \n",
    "    def forward(self, X):\n",
    "        batch_size, in_channels, in_height, in_width = X.shape\n",
    "        \n",
    "        out_height = in_height // self.pool_height\n",
    "        out_width = in_width // self.pool_width\n",
    "        \n",
    "        X = sliding_window_view(X, (self.pool_height, self.pool_width), axis=(2, 3)).reshape(\n",
    "            batch_size,\n",
    "            in_channels,\n",
    "            out_height,\n",
    "            self.pool_height,\n",
    "            out_width,\n",
    "            self.pool_width,\n",
    "        )\n",
    "        \n",
    "        return np.max(X, axis=(3, 5))\n",
    "    \n",
    "    def backward(self, X, dL_dY, lr):\n",
    "        batch_size, in_channels, in_height, in_width = X.shape\n",
    "        \n",
    "        out_height = in_height // self.pool_height\n",
    "        out_width = in_width // self.pool_width\n",
    "        \n",
    "        X = sliding_window_view(X, (self.pool_height, self.pool_width), axis=(2, 3)).reshape(\n",
    "            batch_size,\n",
    "            in_channels,\n",
    "            out_height,\n",
    "            self.pool_height,\n",
    "            out_width,\n",
    "            self.pool_width,\n",
    "        )\n",
    "        \n",
    "        dL_dY = dL_dY[:, :, :, np.newaxis, :, np.newaxis]\n",
    "        mask = X == np.max(X, axis=(3, 5), keepdims=True)\n",
    "        mask = mask.astype(np.float32)\n",
    "        \n",
    "        return mask * dL_dY"
   ]
  },
  {
   "cell_type": "code",
   "execution_count": 5,
   "metadata": {},
   "outputs": [
    {
     "name": "stdout",
     "output_type": "stream",
     "text": [
      "[[[[ 0.50882453  0.5201186   0.39930726 -0.52588223]\n",
      "   [-0.99224041 -0.92532551  0.67849861 -0.55676403]\n",
      "   [-0.04568105 -1.07491862  0.91999961  1.19673476]\n",
      "   [-0.98182725  1.06632788  0.0884675   2.48598056]]]]\n"
     ]
    },
    {
     "ename": "ValueError",
     "evalue": "cannot reshape array of size 36 into shape (1,1,2,2,2,2)",
     "output_type": "error",
     "traceback": [
      "\u001b[31m---------------------------------------------------------------------------\u001b[39m",
      "\u001b[31mValueError\u001b[39m                                Traceback (most recent call last)",
      "\u001b[36mCell\u001b[39m\u001b[36m \u001b[39m\u001b[32mIn[5]\u001b[39m\u001b[32m, line 4\u001b[39m\n\u001b[32m      2\u001b[39m X = np.random.randn(\u001b[32m1\u001b[39m, \u001b[32m1\u001b[39m, \u001b[32m4\u001b[39m, \u001b[32m4\u001b[39m)\n\u001b[32m      3\u001b[39m \u001b[38;5;28mprint\u001b[39m(X)\n\u001b[32m----> \u001b[39m\u001b[32m4\u001b[39m \u001b[38;5;28mprint\u001b[39m(\u001b[43mmaxpool\u001b[49m\u001b[43m.\u001b[49m\u001b[43mforward\u001b[49m\u001b[43m(\u001b[49m\u001b[43mX\u001b[49m\u001b[43m)\u001b[49m)\n",
      "\u001b[36mCell\u001b[39m\u001b[36m \u001b[39m\u001b[32mIn[4]\u001b[39m\u001b[32m, line 15\u001b[39m, in \u001b[36mMaxPool2d.forward\u001b[39m\u001b[34m(self, X)\u001b[39m\n\u001b[32m     12\u001b[39m out_height = in_height // \u001b[38;5;28mself\u001b[39m.pool_height\n\u001b[32m     13\u001b[39m out_width = in_width // \u001b[38;5;28mself\u001b[39m.pool_width\n\u001b[32m---> \u001b[39m\u001b[32m15\u001b[39m X = \u001b[43msliding_window_view\u001b[49m\u001b[43m(\u001b[49m\u001b[43mX\u001b[49m\u001b[43m,\u001b[49m\u001b[43m \u001b[49m\u001b[43m(\u001b[49m\u001b[38;5;28;43mself\u001b[39;49m\u001b[43m.\u001b[49m\u001b[43mpool_height\u001b[49m\u001b[43m,\u001b[49m\u001b[43m \u001b[49m\u001b[38;5;28;43mself\u001b[39;49m\u001b[43m.\u001b[49m\u001b[43mpool_width\u001b[49m\u001b[43m)\u001b[49m\u001b[43m,\u001b[49m\u001b[43m \u001b[49m\u001b[43maxis\u001b[49m\u001b[43m=\u001b[49m\u001b[43m(\u001b[49m\u001b[32;43m2\u001b[39;49m\u001b[43m,\u001b[49m\u001b[43m \u001b[49m\u001b[32;43m3\u001b[39;49m\u001b[43m)\u001b[49m\u001b[43m)\u001b[49m\u001b[43m.\u001b[49m\u001b[43mreshape\u001b[49m\u001b[43m(\u001b[49m\n\u001b[32m     16\u001b[39m \u001b[43m    \u001b[49m\u001b[43mbatch_size\u001b[49m\u001b[43m,\u001b[49m\n\u001b[32m     17\u001b[39m \u001b[43m    \u001b[49m\u001b[43min_channels\u001b[49m\u001b[43m,\u001b[49m\n\u001b[32m     18\u001b[39m \u001b[43m    \u001b[49m\u001b[43mout_height\u001b[49m\u001b[43m,\u001b[49m\n\u001b[32m     19\u001b[39m \u001b[43m    \u001b[49m\u001b[38;5;28;43mself\u001b[39;49m\u001b[43m.\u001b[49m\u001b[43mpool_height\u001b[49m\u001b[43m,\u001b[49m\n\u001b[32m     20\u001b[39m \u001b[43m    \u001b[49m\u001b[43mout_width\u001b[49m\u001b[43m,\u001b[49m\n\u001b[32m     21\u001b[39m \u001b[43m    \u001b[49m\u001b[38;5;28;43mself\u001b[39;49m\u001b[43m.\u001b[49m\u001b[43mpool_width\u001b[49m\u001b[43m,\u001b[49m\n\u001b[32m     22\u001b[39m \u001b[43m\u001b[49m\u001b[43m)\u001b[49m\n\u001b[32m     24\u001b[39m \u001b[38;5;28;01mreturn\u001b[39;00m np.max(X, axis=(\u001b[32m3\u001b[39m, \u001b[32m5\u001b[39m))\n",
      "\u001b[31mValueError\u001b[39m: cannot reshape array of size 36 into shape (1,1,2,2,2,2)"
     ]
    }
   ],
   "source": [
    "maxpool = MaxPool2d(2, 2)\n",
    "X = np.random.randn(1, 1, 4, 4)\n",
    "print(X)\n",
    "print(maxpool.forward(X))"
   ]
  }
 ],
 "metadata": {
  "language_info": {
   "name": "python"
  }
 },
 "nbformat": 4,
 "nbformat_minor": 2
}
