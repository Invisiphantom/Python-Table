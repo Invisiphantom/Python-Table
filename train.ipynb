{
 "cells": [
  {
   "cell_type": "code",
   "execution_count": 1,
   "id": "b25cfcd4",
   "metadata": {},
   "outputs": [],
   "source": [
    "import torch\n",
    "import torch.nn as nn\n",
    "import torch.optim as optim\n",
    "from torch.utils.data import DataLoader\n",
    "from torch.optim.lr_scheduler import CosineAnnealingLR\n",
    "from util import ManualMFCC, SpeechDataset, SpeechRecognizer\n",
    "\n",
    "device = torch.device(\"cuda\" if torch.cuda.is_available() else \"cpu\")"
   ]
  },
  {
   "cell_type": "code",
   "execution_count": 2,
   "id": "aaadf31d",
   "metadata": {},
   "outputs": [],
   "source": [
    "# 初始化模型、优化器和损失函数\n",
    "model = SpeechRecognizer().to(device)\n",
    "optimizer = optim.Adam(model.parameters(), lr=0.001)\n",
    "criterion = nn.CrossEntropyLoss()  # 改为交叉熵损失"
   ]
  },
  {
   "cell_type": "code",
   "execution_count": 3,
   "id": "6150bd02",
   "metadata": {},
   "outputs": [
    {
     "name": "stdout",
     "output_type": "stream",
     "text": [
      "训练集: 2400 个音频文件\n"
     ]
    }
   ],
   "source": [
    "# 初始化MFCC提取器\n",
    "mfcc_extractor = ManualMFCC(sample_rate=8000)\n",
    "\n",
    "# 创建数据集和数据加载器\n",
    "VOCAB = {\"00\": \"数字\", \"01\": \"语音\", \"02\": \"语言\", \"03\": \"处理\", \"04\": \"中国\", \"05\": \"忠告\", \"06\": \"北京\", \"07\": \"背景\", \"08\": \"上海\", \"09\": \"商行\", \"10\": \"Speech\", \"11\": \"Speaker\", \"12\": \"Signal\", \"13\": \"Sequence\", \"14\": \"Processing\", \"15\": \"Print\", \"16\": \"Project\", \"17\": \"File\", \"18\": \"Open\", \"19\": \"Close\"}\n",
    "dataset = SpeechDataset(\"\", VOCAB, mfcc_extractor)\n",
    "dataloader = DataLoader(dataset, batch_size=16, shuffle=True)"
   ]
  },
  {
   "cell_type": "code",
   "execution_count": null,
   "id": "a93e1e6f",
   "metadata": {},
   "outputs": [
    {
     "name": "stdout",
     "output_type": "stream",
     "text": [
      "Epoch [1/1], Loss: 0.0016, Accuracy: 99.96%\n"
     ]
    }
   ],
   "source": [
    "num_epochs = 100\n",
    "scheduler = CosineAnnealingLR(optimizer, T_max=num_epochs, eta_min=1e-5)\n",
    "\n",
    "for epoch in range(num_epochs):\n",
    "    model.train()\n",
    "    total_loss, correct, total = 0.0, 0, 0\n",
    "\n",
    "    for batch_idx, (mfcc, labels) in enumerate(dataloader):\n",
    "        # 调整维度为 (batch, time, features)\n",
    "        mfcc = mfcc.permute(0, 2, 1).to(device)\n",
    "        labels = labels.squeeze().to(device)  # 从(batch,1)变为(batch,)\n",
    "        \n",
    "        # 前向传播\n",
    "        outputs = model(mfcc)\n",
    "        \n",
    "        # 计算损失\n",
    "        loss = criterion(outputs, labels)\n",
    "\n",
    "        # 反向传播和优化\n",
    "        optimizer.zero_grad()\n",
    "        loss.backward()\n",
    "        optimizer.step()\n",
    "\n",
    "        # 统计\n",
    "        total_loss += loss.item()\n",
    "        _, predicted = torch.max(outputs.data, 1)\n",
    "        total += labels.size(0)\n",
    "        correct += (predicted == labels).sum().item()\n",
    "\n",
    "    # 更新学习率\n",
    "    scheduler.step()\n",
    "    \n",
    "    epoch_loss = total_loss / len(dataloader)\n",
    "    epoch_acc = 100 * correct / total\n",
    "    print(f\"Epoch [{epoch+1}/{num_epochs}], Loss: {epoch_loss:.4f}, Accuracy: {epoch_acc:.2f}%\")\n",
    "\n",
    "torch.save(model.state_dict(), \"model.pth\")"
   ]
  },
  {
   "cell_type": "code",
   "execution_count": null,
   "id": "4ce2341f",
   "metadata": {},
   "outputs": [],
   "source": []
  },
  {
   "cell_type": "code",
   "execution_count": null,
   "id": "10179fb4",
   "metadata": {},
   "outputs": [],
   "source": []
  },
  {
   "cell_type": "code",
   "execution_count": null,
   "metadata": {},
   "outputs": [],
   "source": []
  },
  {
   "cell_type": "code",
   "execution_count": null,
   "metadata": {},
   "outputs": [],
   "source": []
  }
 ],
 "metadata": {
  "kernelspec": {
   "display_name": "base",
   "language": "python",
   "name": "python3"
  },
  "language_info": {
   "codemirror_mode": {
    "name": "ipython",
    "version": 3
   },
   "file_extension": ".py",
   "mimetype": "text/x-python",
   "name": "python",
   "nbconvert_exporter": "python",
   "pygments_lexer": "ipython3",
   "version": "3.12.9"
  }
 },
 "nbformat": 4,
 "nbformat_minor": 5
}
