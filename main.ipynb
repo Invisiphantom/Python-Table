{
 "cells": [
  {
   "cell_type": "code",
   "execution_count": null,
   "metadata": {},
   "outputs": [],
   "source": [
    "import dill\n",
    "\n",
    "eval_datafile_path = [\"mnist_testdata/t10k-images.idx3-ubyte\", \"mnist_testdata/t10k-labels.idx1-ubyte\"]  # task1, task2\n",
    "eval_datafile_path = \"cifar10_testdata/test_batch\"  # task2, task3\n",
    "\n",
    "\n",
    "# model_pickle_path = 'task1.pickle'\n",
    "model_pickle_path = \"task2.pickle\"\n",
    "# model_pickle_path = 'task3.pickle'\n",
    "\n",
    "# 读取保存的模型\n",
    "with open(model_pickle_path, \"rb\") as f:\n",
    "    model = dill.load(f)\n",
    "\n",
    "test_accuracy = model.interview(eval_datafile_path)\n",
    "print(f\"测试准确率: {test_accuracy:.2f}%\")"
   ]
  }
 ],
 "metadata": {
  "language_info": {
   "name": "python"
  }
 },
 "nbformat": 4,
 "nbformat_minor": 2
}
