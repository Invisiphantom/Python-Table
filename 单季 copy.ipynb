{
 "cells": [
  {
   "cell_type": "code",
   "execution_count": 1,
   "metadata": {},
   "outputs": [],
   "source": [
    "import torch\n",
    "import torch.nn as nn\n",
    "import pandas as pd"
   ]
  },
  {
   "cell_type": "code",
   "execution_count": 2,
   "metadata": {},
   "outputs": [],
   "source": [
    "#! 暂时只考虑坏地的情况\n",
    "A_year_len = 8\n",
    "A_land_len = 26\n",
    "A_crop_len = 15"
   ]
  },
  {
   "cell_type": "markdown",
   "metadata": {},
   "source": [
    "## 耕地性质, 作物性质"
   ]
  },
  {
   "cell_type": "code",
   "execution_count": 3,
   "metadata": {},
   "outputs": [],
   "source": [
    "land_df = pd.read_excel(\"耕地性质.xlsx\")\n",
    "crop_df = pd.read_excel(\"农作物性质.xlsx\")\n",
    "\n",
    "land_name2idx = {}\n",
    "land_idx2name = {}\n",
    "land_idx2type = {}\n",
    "land_idx2area = {}\n",
    "for i in range(len(land_df)):\n",
    "    land_name = land_df.iloc[i]['地块名称'].strip()\n",
    "    land_type = land_df.iloc[i]['地块类型'].strip()\n",
    "    land_area = land_df.iloc[i]['地块面积/亩']\n",
    "    land_name2idx[land_name] = i\n",
    "    land_idx2name[i] = land_name\n",
    "    land_idx2type[i] = land_type\n",
    "    land_idx2area[i] = land_area\n",
    "    \n",
    "crop_name2idx = {}\n",
    "crop_idx2name = {}\n",
    "crop_idx2type = {}\n",
    "crop_idx2land = {}\n",
    "for i in range(len(crop_df)):\n",
    "    crop_name = crop_df.iloc[i]['作物名称'].strip()\n",
    "    crop_type = crop_df.iloc[i]['作物类型'].strip()\n",
    "    crop_land = crop_df.iloc[i]['种植耕地'].strip()\n",
    "    crop_name2idx[crop_name] = i\n",
    "    crop_idx2name[i] = crop_name\n",
    "    crop_idx2type[i] = crop_type\n",
    "    crop_idx2land[i] = crop_land\n",
    "\n",
    "del land_df, crop_df, i\n",
    "del land_name, land_type, land_area, crop_name, crop_type, crop_land"
   ]
  },
  {
   "cell_type": "markdown",
   "metadata": {},
   "source": [
    "## 销售价格 `price_ts`"
   ]
  },
  {
   "cell_type": "code",
   "execution_count": 4,
   "metadata": {},
   "outputs": [],
   "source": [
    "price_2023 = pd.read_excel(\"2023年销售数据.xlsx\")\n",
    "\n",
    "# 计算每种作物的每亩均值利润\n",
    "for i in range(len(price_2023)):\n",
    "    price_range = price_2023.loc[i, \"销售单价/(元/斤)\"]\n",
    "    price_low = price_range.split(\"-\")[0]\n",
    "    price_high = price_range.split(\"-\")[1]\n",
    "    price_avg = (float(price_low) + float(price_high)) / 2\n",
    "    price_2023.loc[i, \"均值单价\"] = round(price_avg, 4)\n",
    "    price_2023.loc[i, \"均值利润\"] = price_2023.loc[i, \"亩产量/斤\"] * price_avg - price_2023.loc[i, \"种植成本/(元/亩)\"]\n",
    "    price_2023.loc[i, \"均值利润\"] = price_2023.loc[i, \"均值利润\"].round(4)\n",
    "\n",
    "del price_range, price_low, price_high, price_avg, i"
   ]
  },
  {
   "cell_type": "code",
   "execution_count": 5,
   "metadata": {},
   "outputs": [],
   "source": [
    "import sqlite3\n",
    "\n",
    "# 建立数据库 <作物索引, 地块类型, 季次, 每亩利润>\n",
    "conn = sqlite3.connect(\"price.db\")\n",
    "price_db = conn.cursor()\n",
    "price_db.execute(\"DROP TABLE IF EXISTS price_tb\")\n",
    "price_db.execute(\"CREATE TABLE IF NOT EXISTS price_tb (crop_idx INTEGER, land_type TEXT, season TEXT, price REAL)\")\n",
    "for i in range(len(price_2023)):\n",
    "    crop_name = price_2023.loc[i, \"作物名称\"].strip()\n",
    "    crop_idx = crop_name2idx[crop_name]\n",
    "    land_type = price_2023.loc[i, \"地块类型\"].strip()\n",
    "    season = price_2023.loc[i, \"种植季次\"].strip()\n",
    "    price = price_2023.loc[i, \"均值利润\"]\n",
    "    price_db.execute(\"INSERT INTO price_tb VALUES (?, ?, ?, ?)\", (crop_idx, land_type, season, price))\n",
    "    if land_type == \"普通大棚\":\n",
    "        price_db.execute(\"INSERT INTO price_tb VALUES (?, ?, ?, ?)\", (crop_idx, \"智慧大棚\", season, price))\n",
    "\n",
    "conn.commit()\n",
    "del crop_name, crop_idx, land_type, season, price, i, conn"
   ]
  },
  {
   "cell_type": "code",
   "execution_count": 6,
   "metadata": {},
   "outputs": [],
   "source": [
    "# 构建销售利润价格矩阵 <地块索引, 作物索引>-<价格利润>\n",
    "price_ts = torch.zeros(A_land_len, A_crop_len)\n",
    "for i in range(A_land_len):\n",
    "    land_type = land_idx2type[i]\n",
    "    for j in range(A_crop_len):\n",
    "        price_db.execute(\"SELECT price FROM price_tb WHERE crop_idx = ? AND land_type = ?\", (j, land_type)) #! 暂时只考虑单季\n",
    "        crop_price = price_db.fetchone()\n",
    "        if crop_price is not None:\n",
    "            price_ts[i, j] = crop_price[0]"
   ]
  },
  {
   "cell_type": "markdown",
   "metadata": {},
   "source": [
    "## 耕地面积限制 `capat_ts`"
   ]
  },
  {
   "cell_type": "code",
   "execution_count": 7,
   "metadata": {},
   "outputs": [],
   "source": [
    "capat_ts = torch.tensor([land_idx2area[i] for i in range(A_land_len)])"
   ]
  },
  {
   "cell_type": "markdown",
   "metadata": {},
   "source": [
    "## 作物销量 `demand_ts`"
   ]
  },
  {
   "cell_type": "code",
   "execution_count": 8,
   "metadata": {},
   "outputs": [],
   "source": [
    "# 假设需求量是23年产量的SALE2VOL倍\n",
    "SALE2VOL = 1.3"
   ]
  },
  {
   "cell_type": "code",
   "execution_count": 9,
   "metadata": {},
   "outputs": [],
   "source": [
    "plant_2023 = pd.read_excel(\"2023年种植数据.xlsx\")\n",
    "demand_ts = torch.zeros(A_crop_len)\n",
    "for i in range(len(plant_2023)):\n",
    "    crop_idx = crop_name2idx[plant_2023.loc[i, \"作物名称\"].strip()]\n",
    "    crop_sale = plant_2023.loc[i, \"种植面积/亩\"]\n",
    "    if crop_idx < A_crop_len:\n",
    "        demand_ts[crop_idx] += crop_sale * SALE2VOL\n",
    "\n",
    "del plant_2023, crop_idx, crop_sale"
   ]
  },
  {
   "cell_type": "markdown",
   "metadata": {},
   "source": [
    "## 模型构建"
   ]
  },
  {
   "cell_type": "code",
   "execution_count": 10,
   "metadata": {},
   "outputs": [],
   "source": [
    "class ProfitModel(nn.Module):\n",
    "    def __init__(self, year_len: int, land_len: int, crop_len: int, price_ts: torch.Tensor, capat_ts: torch.Tensor, demand_ts: torch.Tensor, device: str, focus_mask: float):\n",
    "        super(ProfitModel, self).__init__()\n",
    "        self.device = device\n",
    "        self.land_len = land_len\n",
    "        self.crop_len = crop_len\n",
    "        self.plant_ts = nn.Parameter(torch.zeros(land_len, crop_len).to(torch.float32))  # 每块地的种植面积需要训练\n",
    "\n",
    "        assert price_ts.shape == (land_len, crop_len)\n",
    "        self.price_ts = price_ts.transpose(0, 1).to(device)  # 销售价格已确定, 无需训练\n",
    "\n",
    "        assert capat_ts.shape == (land_len,)\n",
    "        self.capat_ts = capat_ts.to(device)  # 每块地的种植面积上限已确定, 无需训练\n",
    "        self.plant_mask = (self.capat_ts * focus_mask).unsqueeze(1).to(torch.float32)\n",
    "\n",
    "        assert demand_ts.shape == (crop_len,)\n",
    "        self.demand_ts = demand_ts.to(device)  # 每种作物的需求量已确定, 无需训练\n",
    "\n",
    "    def forward(self):\n",
    "        # 如果plant_ts的种植过于分散, 则收益减小\n",
    "        torch.where(self.plant_ts < self.plant_mask, self.plant_ts / 10.0, self.plant_ts)\n",
    "        # 矩阵相乘, 并取对角线元素之和\n",
    "        profit_ts = torch.matmul(self.plant_ts, self.price_ts)\n",
    "        profit_sum = profit_ts.diag().sum()\n",
    "        # 如果某块耕地的种植面积超过了上限, 则惩罚\n",
    "        profit_sum -= torch.relu(self.plant_ts.sum(dim=1) - self.capat_ts).sum() * 1e9\n",
    "        # 如果某种作物的产量超过了需求量, 则惩罚\n",
    "        profit_sum -= torch.relu(self.plant_ts.transpose(0, 1).sum(dim=1) - self.demand_ts).sum() * 1e9\n",
    "        return -profit_sum"
   ]
  },
  {
   "cell_type": "code",
   "execution_count": 11,
   "metadata": {},
   "outputs": [
    {
     "name": "stdout",
     "output_type": "stream",
     "text": [
      "Using device: cuda\n"
     ]
    }
   ],
   "source": [
    "focus_mask = 0.2\n",
    "device = torch.device(\"cuda\" if torch.cuda.is_available() else \"cpu\")\n",
    "print(f\"Using device: {device}\")\n",
    "model = ProfitModel(A_year_len, A_land_len, A_crop_len, price_ts, capat_ts, demand_ts, device, focus_mask).to(device)"
   ]
  },
  {
   "cell_type": "code",
   "execution_count": 12,
   "metadata": {},
   "outputs": [],
   "source": [
    "keep_vars = [\"model\", \"crop_idx2name\", \"A_crop_len\", \"land_idx2name\", \"A_land_len\"]\n",
    "for var in list(globals().keys()):\n",
    "    if var not in keep_vars and not var.startswith(\"_\"):\n",
    "        del globals()[var]\n",
    "del var"
   ]
  },
  {
   "cell_type": "code",
   "execution_count": 19,
   "metadata": {},
   "outputs": [
    {
     "name": "stdout",
     "output_type": "stream",
     "text": [
      "Epoch 0, Loss 2521880.0\n",
      "Epoch 500, Loss 2523040.25\n",
      "Epoch 1000, Loss 2523040.25\n",
      "Epoch 1500, Loss 2523040.25\n",
      "Epoch 2000, Loss 2523040.25\n",
      "Epoch 2500, Loss 2523040.25\n",
      "Epoch 3000, Loss 2523040.25\n",
      "Epoch 3500, Loss 2523040.25\n",
      "Epoch 4000, Loss 2523040.25\n",
      "Epoch 4500, Loss 2523040.25\n",
      "Epoch 5000, Loss 2523040.25\n",
      "Epoch 5500, Loss 2523040.25\n",
      "Epoch 6000, Loss 2523040.25\n",
      "Epoch 6500, Loss 2523040.25\n",
      "Epoch 7000, Loss 2523042.75\n",
      "Epoch 7500, Loss 2523050.75\n",
      "Epoch 8000, Loss 2523060.0\n",
      "Epoch 8500, Loss 2523074.25\n",
      "Epoch 9000, Loss 2523094.0\n",
      "Epoch 9500, Loss 2523080.75\n",
      "Epoch 10000, Loss 2523073.5\n",
      "Epoch 10500, Loss 2523048.25\n",
      "Epoch 11000, Loss 2522833.0\n",
      "Epoch 11500, Loss 2522833.0\n",
      "Epoch 12000, Loss 2522833.0\n",
      "Epoch 12500, Loss 2522833.0\n",
      "Epoch 13000, Loss 2522833.0\n",
      "Epoch 13500, Loss 2522833.0\n",
      "Epoch 14000, Loss 2522833.0\n",
      "Epoch 14500, Loss 2522833.0\n",
      "Epoch 15000, Loss 2522833.0\n",
      "Epoch 15500, Loss 2522833.0\n",
      "Epoch 16000, Loss 2522833.0\n",
      "Epoch 16500, Loss 2522833.25\n",
      "Epoch 17000, Loss 2522835.0\n",
      "Epoch 17500, Loss 2522840.75\n",
      "Epoch 18000, Loss 2522850.0\n",
      "Epoch 18500, Loss 2522861.0\n",
      "Epoch 19000, Loss 2522877.25\n",
      "Epoch 19500, Loss 2522902.0\n",
      "Epoch 20000, Loss 2522936.5\n",
      "Epoch 20500, Loss 2522986.75\n",
      "Epoch 21000, Loss 2523036.0\n",
      "Epoch 21500, Loss 2523055.0\n",
      "Epoch 22000, Loss 2515426.0\n",
      "Epoch 22500, Loss 2522898.0\n",
      "Epoch 23000, Loss 2522898.0\n",
      "Epoch 23500, Loss 2522898.0\n",
      "Epoch 24000, Loss 2522898.0\n",
      "Epoch 24500, Loss 2522898.0\n",
      "Epoch 25000, Loss 2522898.0\n",
      "Epoch 25500, Loss 2522898.0\n",
      "Epoch 26000, Loss 2522898.0\n",
      "Epoch 26500, Loss 2522898.0\n",
      "Epoch 27000, Loss 2522898.0\n",
      "Epoch 27500, Loss 2522898.5\n",
      "Epoch 28000, Loss 2522900.75\n",
      "Epoch 28500, Loss 2522906.0\n",
      "Epoch 29000, Loss 2522914.5\n",
      "Epoch 29500, Loss 2522925.25\n",
      "Epoch 30000, Loss 2522940.5\n",
      "Epoch 30500, Loss 2522963.5\n",
      "Epoch 31000, Loss 2522949.0\n",
      "Epoch 31500, Loss 2522982.5\n",
      "Epoch 32000, Loss 2523034.0\n",
      "Epoch 32500, Loss 2523037.5\n",
      "Epoch 33000, Loss 2523027.0\n",
      "Epoch 33500, Loss 2523005.5\n",
      "Epoch 34000, Loss 2523025.0\n",
      "Epoch 34500, Loss 2522936.0\n",
      "Epoch 35000, Loss 2522903.5\n",
      "Epoch 35500, Loss 2522903.5\n",
      "Epoch 36000, Loss 2522903.5\n",
      "Epoch 36500, Loss 2522903.5\n",
      "Epoch 37000, Loss 2522903.5\n",
      "Epoch 37500, Loss 2522903.5\n",
      "Epoch 38000, Loss 2522903.5\n",
      "Epoch 38500, Loss 2522903.75\n",
      "Epoch 39000, Loss 2522904.0\n",
      "Epoch 39500, Loss 2522905.5\n",
      "Epoch 40000, Loss 2522908.0\n",
      "Epoch 40500, Loss 2522913.5\n",
      "Epoch 41000, Loss 2522922.0\n",
      "Epoch 41500, Loss 2522935.0\n",
      "Epoch 42000, Loss 2522953.5\n",
      "Epoch 42500, Loss 2522979.25\n",
      "Epoch 43000, Loss 2523013.75\n",
      "Epoch 43500, Loss 2523032.75\n",
      "Epoch 44000, Loss 2523064.0\n",
      "Epoch 44500, Loss 2523086.0\n",
      "Epoch 45000, Loss 2523087.5\n",
      "Epoch 45500, Loss 2523085.75\n",
      "Epoch 46000, Loss 2523009.0\n",
      "Epoch 46500, Loss 2522974.5\n",
      "Epoch 47000, Loss 2522974.5\n",
      "Epoch 47500, Loss 2522974.5\n",
      "Epoch 48000, Loss 2522974.5\n",
      "Epoch 48500, Loss 2522974.5\n",
      "Epoch 49000, Loss 2522974.5\n",
      "Epoch 49500, Loss 2522974.75\n"
     ]
    }
   ],
   "source": [
    "# 开始进行训练\n",
    "import torch\n",
    "optimizer = torch.optim.Adam(model.parameters(), lr=0.00001, weight_decay=0.01)\n",
    "for epoch in range(50000):\n",
    "    optimizer.zero_grad()\n",
    "    loss = model()\n",
    "    loss.backward()\n",
    "    optimizer.step()\n",
    "    if epoch % 500 == 0:\n",
    "        print(f\"Epoch {epoch}, Loss {-loss.item()}\")"
   ]
  },
  {
   "cell_type": "code",
   "execution_count": 20,
   "metadata": {},
   "outputs": [],
   "source": [
    "import pandas as pd\n",
    "plant_ts = model.plant_ts.cpu().detach().numpy()\n",
    "plant_df = pd.DataFrame(plant_ts, columns=[crop_idx2name[i] for i in range(A_crop_len)], index=[land_idx2name[i] for i in range(A_land_len)])"
   ]
  }
 ],
 "metadata": {
  "kernelspec": {
   "display_name": "base",
   "language": "python",
   "name": "python3"
  },
  "language_info": {
   "codemirror_mode": {
    "name": "ipython",
    "version": 3
   },
   "file_extension": ".py",
   "mimetype": "text/x-python",
   "name": "python",
   "nbconvert_exporter": "python",
   "pygments_lexer": "ipython3",
   "version": "3.12.4"
  }
 },
 "nbformat": 4,
 "nbformat_minor": 2
}
