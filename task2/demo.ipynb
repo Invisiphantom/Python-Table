{
 "cells": [
  {
   "cell_type": "code",
   "execution_count": 1,
   "id": "ac452527",
   "metadata": {},
   "outputs": [
    {
     "name": "stdout",
     "output_type": "stream",
     "text": [
      "device: cuda\n"
     ]
    }
   ],
   "source": [
    "import dill\n",
    "import pickle\n",
    "import struct\n",
    "import numpy as np\n",
    "import matplotlib.pyplot as plt\n",
    "from tqdm import tqdm\n",
    "\n",
    "import torch\n",
    "from torch import nn\n",
    "from torch import optim\n",
    "from torch.utils.data import TensorDataset, DataLoader\n",
    "from torch.utils.tensorboard import SummaryWriter\n",
    "\n",
    "# tensorboard --logdir=/opt/logs --port=6007\n",
    "writer = SummaryWriter(log_dir=\"/opt/logs/task2-mnist-torch\", flush_secs=30)\n",
    "device = torch.accelerator.current_accelerator().type if torch.accelerator.is_available() else \"cpu\"\n",
    "print(f\"device: {device}\")"
   ]
  },
  {
   "cell_type": "code",
   "execution_count": 2,
   "id": "b382ed12",
   "metadata": {},
   "outputs": [],
   "source": [
    "# 用于适配interview接口\n",
    "class CIFAR_Net(nn.Module):\n",
    "    @staticmethod\n",
    "    def unpickle(file):\n",
    "        with open(file, \"rb\") as f:\n",
    "            dict = pickle.load(f, encoding=\"bytes\")\n",
    "        return dict\n",
    "\n",
    "    @staticmethod\n",
    "    def one_hot(labels, num_classes):\n",
    "        one_hot_labels = np.zeros((len(labels), num_classes))\n",
    "        for i in range(len(labels)):\n",
    "            one_hot_labels[i, labels[i]] = 1\n",
    "        return one_hot_labels\n",
    "\n",
    "    def interview(self, eval_datafile_path, device):\n",
    "        data_batch = self.unpickle(eval_datafile_path)\n",
    "        eval_images, eval_labels = data_batch[b\"data\"], data_batch[b\"labels\"]\n",
    "        eval_images = eval_images.reshape(-1, 3, 32, 32)\n",
    "        eval_labels = self.one_hot(eval_labels, 10)\n",
    "        eval_images = torch.from_numpy(eval_images).float()\n",
    "        eval_labels = torch.from_numpy(eval_labels).float()\n",
    "        eval_images, eval_labels = eval_images.to(device), eval_labels.to(device)\n",
    "\n",
    "        self.eval()\n",
    "        with torch.no_grad():\n",
    "            pred = self.forward(eval_images)\n",
    "            accuracy = torch.sum(torch.argmax(pred, dim=1) == torch.argmax(eval_labels, dim=1)).item()\n",
    "        return accuracy / len(eval_labels) * 100\n",
    "\n",
    "    def __init__(self):\n",
    "        super().__init__()\n",
    "        self.net = nn.Sequential(\n",
    "            #\n",
    "            # Block 1: (3,32,32) -> (64,32,32) -> (64,16,16)\n",
    "            nn.Conv2d(3, 64, kernel_size=3, padding=1),\n",
    "            nn.BatchNorm2d(64),\n",
    "            nn.ReLU(),\n",
    "            nn.Conv2d(64, 64, kernel_size=3, padding=1),\n",
    "            nn.BatchNorm2d(64),\n",
    "            nn.ReLU(),\n",
    "            nn.MaxPool2d(2),\n",
    "            #\n",
    "            # Block 2: (64,16,16) -> (128,16,16) -> (128,8,8)\n",
    "            nn.Conv2d(64, 128, kernel_size=3, padding=1),\n",
    "            nn.BatchNorm2d(128),\n",
    "            nn.ReLU(),\n",
    "            nn.Conv2d(128, 128, kernel_size=3, padding=1),\n",
    "            nn.BatchNorm2d(128),\n",
    "            nn.ReLU(),\n",
    "            nn.MaxPool2d(2),\n",
    "            #\n",
    "            # Block 3: (128,8,8) -> (256,8,8) -> (256,4,4)\n",
    "            nn.Conv2d(128, 256, kernel_size=3, padding=1),\n",
    "            nn.BatchNorm2d(256),\n",
    "            nn.ReLU(),\n",
    "            nn.Conv2d(256, 256, kernel_size=3, padding=1),\n",
    "            nn.BatchNorm2d(256),\n",
    "            nn.ReLU(),\n",
    "            nn.MaxPool2d(2),\n",
    "            #\n",
    "            nn.Flatten(),\n",
    "            nn.Linear(256 * 4 * 4, 1024),\n",
    "            nn.BatchNorm1d(1024),\n",
    "            nn.ReLU(),\n",
    "            nn.Dropout(0.3),\n",
    "            nn.Linear(1024, 10),\n",
    "        )\n",
    "\n",
    "        # 权重初始化\n",
    "        for m in self.net.modules():\n",
    "            if isinstance(m, nn.Conv2d):\n",
    "                nn.init.kaiming_normal_(m.weight, mode=\"fan_out\", nonlinearity=\"relu\")\n",
    "            elif isinstance(m, nn.Linear):\n",
    "                nn.init.xavier_normal_(m.weight)\n",
    "                nn.init.zeros_(m.bias)\n",
    "\n",
    "    def forward(self, x):\n",
    "        return self.net(x)"
   ]
  },
  {
   "cell_type": "code",
   "execution_count": 3,
   "id": "e3af04e8",
   "metadata": {},
   "outputs": [],
   "source": [
    "model_cifar_path = \"task2-cifar.pkl\"\n",
    "with open(model_cifar_path, \"rb\") as f:\n",
    "    model_cifar = dill.load(f).to(device)"
   ]
  },
  {
   "cell_type": "code",
   "execution_count": 4,
   "id": "920dc9de",
   "metadata": {},
   "outputs": [],
   "source": [
    "model = CIFAR_Net()"
   ]
  },
  {
   "cell_type": "code",
   "execution_count": 5,
   "id": "44741251",
   "metadata": {},
   "outputs": [
    {
     "data": {
      "text/plain": [
       "<All keys matched successfully>"
      ]
     },
     "execution_count": 5,
     "metadata": {},
     "output_type": "execute_result"
    }
   ],
   "source": [
    "model.load_state_dict(model_cifar.state_dict())"
   ]
  },
  {
   "cell_type": "code",
   "execution_count": 6,
   "id": "abf8863d",
   "metadata": {},
   "outputs": [],
   "source": [
    "with open(model_cifar_path, \"wb\") as f:\n",
    "    dill.dump(model, f)"
   ]
  }
 ],
 "metadata": {
  "kernelspec": {
   "display_name": "base",
   "language": "python",
   "name": "python3"
  },
  "language_info": {
   "codemirror_mode": {
    "name": "ipython",
    "version": 3
   },
   "file_extension": ".py",
   "mimetype": "text/x-python",
   "name": "python",
   "nbconvert_exporter": "python",
   "pygments_lexer": "ipython3",
   "version": "3.12.9"
  }
 },
 "nbformat": 4,
 "nbformat_minor": 5
}
