{
 "cells": [
  {
   "cell_type": "code",
   "execution_count": 2,
   "id": "33fdc41b",
   "metadata": {},
   "outputs": [],
   "source": [
    "from sklearn import metrics\n",
    "import warnings\n",
    "\n",
    "warnings.filterwarnings(\"ignore\")\n",
    "\n",
    "sorted_labels_eng = [\"O\", \"B-PER\", \"I-PER\", \"B-ORG\", \"I-ORG\", \"B-LOC\", \"I-LOC\", \"B-MISC\", \"I-MISC\"]\n",
    "sorted_labels_chn = [\"O\", \"B-NAME\", \"M-NAME\", \"E-NAME\", \"S-NAME\", \"B-CONT\", \"M-CONT\", \"E-CONT\", \"S-CONT\", \"B-EDU\", \"M-EDU\", \"E-EDU\", \"S-EDU\", \"B-TITLE\", \"M-TITLE\", \"E-TITLE\", \"S-TITLE\", \"B-ORG\", \"M-ORG\", \"E-ORG\", \"S-ORG\", \"B-RACE\", \"M-RACE\", \"E-RACE\", \"S-RACE\", \"B-PRO\", \"M-PRO\", \"E-PRO\", \"S-PRO\", \"B-LOC\", \"M-LOC\", \"E-LOC\", \"S-LOC\"]\n",
    "\n",
    "\n",
    "def check(language, gold_path, my_path):\n",
    "    if language == \"English\":\n",
    "        sort_labels = sorted_labels_eng\n",
    "    else:\n",
    "        sort_labels = sorted_labels_chn\n",
    "    y_true = []\n",
    "    y_pred = []\n",
    "    with open(gold_path, \"r\") as g_f, open(my_path, \"r\") as m_f:\n",
    "        g_lines = g_f.readlines()\n",
    "        m_lines = m_f.readlines()\n",
    "        assert len(g_lines) == len(m_lines), \"Length is Not Equal.\"\n",
    "        for i in range(len(g_lines)):\n",
    "            if g_lines[i] == \"\\n\":\n",
    "                continue\n",
    "            g_word, g_tag = g_lines[i].strip().split(\" \")\n",
    "            m_word, m_tag = m_lines[i].strip().split(\" \")\n",
    "            y_true.append(g_tag)\n",
    "            y_pred.append(m_tag)\n",
    "    print(f\"Micro F1 Score = {metrics.f1_score(y_true, y_pred, average='micro'):.4f}\")\n",
    "    return"
   ]
  },
  {
   "cell_type": "code",
   "execution_count": 3,
   "id": "5252e80d",
   "metadata": {},
   "outputs": [
    {
     "name": "stdout",
     "output_type": "stream",
     "text": [
      "HMM-Chinese: Micro F1 Score = 0.9126\n",
      "HMM-English: Micro F1 Score = 0.8332\n",
      "CRF-Chinese: Micro F1 Score = 0.3922\n"
     ]
    }
   ],
   "source": [
    "print(\"HMM-Chinese: \", end=\"\")\n",
    "check(language = \"Chinese\", gold_path=\"Chinese/validation.txt\", my_path=\"Chinese/validation_HMM.txt\")\n",
    "\n",
    "print(\"HMM-English: \", end=\"\")\n",
    "check(language = \"English\", gold_path=\"English/validation.txt\", my_path=\"English/validation_HMM.txt\")\n",
    "\n",
    "print(\"CRF-Chinese: \", end=\"\")\n",
    "check(language = \"Chinese\", gold_path=\"Chinese/validation.txt\", my_path=\"Chinese/validation_CRF.txt\")"
   ]
  }
 ],
 "metadata": {
  "kernelspec": {
   "display_name": "base",
   "language": "python",
   "name": "python3"
  },
  "language_info": {
   "codemirror_mode": {
    "name": "ipython",
    "version": 3
   },
   "file_extension": ".py",
   "mimetype": "text/x-python",
   "name": "python",
   "nbconvert_exporter": "python",
   "pygments_lexer": "ipython3",
   "version": "3.12.9"
  }
 },
 "nbformat": 4,
 "nbformat_minor": 5
}
